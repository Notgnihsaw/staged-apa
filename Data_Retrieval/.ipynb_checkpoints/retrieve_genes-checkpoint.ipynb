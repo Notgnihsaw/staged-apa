{
 "cells": [
  {
   "cell_type": "code",
   "execution_count": 87,
   "metadata": {},
   "outputs": [],
   "source": [
    "import csv\n",
    "from urllib.request import urlopen\n",
    "from bs4 import BeautifulSoup\n",
    "import pandas as pd\n",
    "import re"
   ]
  },
  {
   "cell_type": "code",
   "execution_count": 3,
   "metadata": {},
   "outputs": [],
   "source": [
    "page = 1\n",
    "tissue = 'full_blood'\n",
    "html = urlopen(\"http://tools.genxpro.net/apadb/browse/human/\" + tissue +\"/?page=\" + str(page))"
   ]
  },
  {
   "cell_type": "code",
   "execution_count": 4,
   "metadata": {},
   "outputs": [],
   "source": [
    "soup = BeautifulSoup(html, 'html.parser')"
   ]
  },
  {
   "cell_type": "code",
   "execution_count": 7,
   "metadata": {},
   "outputs": [],
   "source": [
    "table = soup.findAll(\"table\", {'class':'paleblue'})[0]"
   ]
  },
  {
   "cell_type": "code",
   "execution_count": 8,
   "metadata": {},
   "outputs": [],
   "source": [
    "rows = table.findAll(\"tr\")"
   ]
  },
  {
   "cell_type": "code",
   "execution_count": 9,
   "metadata": {},
   "outputs": [
    {
     "name": "stdout",
     "output_type": "stream",
     "text": [
      "[<tr>\n",
      "<th class=\"asc gene_symbol orderable\"><a href=\"?sort=-gene_symbol&amp;page=1\">Gene_Symbol</a></th>\n",
      "<th class=\"num_polya_sites orderable\"><a href=\"?sort=num_polya_sites&amp;page=1\">PolyA Sites</a></th>\n",
      "<th class=\"num_utr3 orderable\"><a href=\"?sort=num_utr3&amp;page=1\">Sites In UTR3</a></th>\n",
      "<th class=\"num_intron orderable\"><a href=\"?sort=num_intron&amp;page=1\">Sites In Intron</a></th>\n",
      "<th class=\"num_exon orderable\"><a href=\"?sort=num_exon&amp;page=1\">Sites In Exon</a></th>\n",
      "<th class=\"num_utr5 orderable\"><a href=\"?sort=num_utr5&amp;page=1\">Sites In UTR5</a></th>\n",
      "<th class=\"num_extension orderable\"><a href=\"?sort=num_extension&amp;page=1\">Sites In Extension</a></th>\n",
      "<th class=\"orderable total_reads_gene\"><a href=\"?sort=total_reads_gene&amp;page=1\">Total_Reads_Gene</a></th>\n",
      "</tr>, <tr class=\"even\">\n",
      "<td class=\"gene_symbol\">A1BG</td>\n",
      "<td class=\"num_polya_sites\"><a href=\"/apadb/browse/human/full_blood/A1BG/\" target=\"_blank\">1</a></td>\n",
      "<td class=\"num_utr3\">1</td>\n",
      "<td class=\"num_intron\">0</td>\n",
      "<td class=\"num_exon\">0</td>\n",
      "<td class=\"num_utr5\">0</td>\n",
      "<td class=\"num_extension\">0</td>\n",
      "<td class=\"total_reads_gene\">145</td>\n",
      "</tr>, <tr class=\"odd\">\n",
      "<td class=\"gene_symbol\">A1BG-AS1</td>\n",
      "<td class=\"num_polya_sites\"><a href=\"/apadb/browse/human/full_blood/A1BG-AS1/\" target=\"_blank\">2</a></td>\n",
      "<td class=\"num_utr3\">0</td>\n",
      "<td class=\"num_intron\">0</td>\n",
      "<td class=\"num_exon\">0</td>\n",
      "<td class=\"num_utr5\">0</td>\n",
      "<td class=\"num_extension\">2</td>\n",
      "<td class=\"total_reads_gene\">49</td>\n",
      "</tr>, <tr class=\"even\">\n",
      "<td class=\"gene_symbol\">AAAS</td>\n",
      "<td class=\"num_polya_sites\"><a href=\"/apadb/browse/human/full_blood/AAAS/\" target=\"_blank\">1</a></td>\n",
      "<td class=\"num_utr3\">1</td>\n",
      "<td class=\"num_intron\">0</td>\n",
      "<td class=\"num_exon\">0</td>\n",
      "<td class=\"num_utr5\">0</td>\n",
      "<td class=\"num_extension\">0</td>\n",
      "<td class=\"total_reads_gene\">245</td>\n",
      "</tr>, <tr class=\"odd\">\n",
      "<td class=\"gene_symbol\">AACS</td>\n",
      "<td class=\"num_polya_sites\"><a href=\"/apadb/browse/human/full_blood/AACS/\" target=\"_blank\">1</a></td>\n",
      "<td class=\"num_utr3\">1</td>\n",
      "<td class=\"num_intron\">0</td>\n",
      "<td class=\"num_exon\">0</td>\n",
      "<td class=\"num_utr5\">0</td>\n",
      "<td class=\"num_extension\">0</td>\n",
      "<td class=\"total_reads_gene\">64</td>\n",
      "</tr>, <tr class=\"even\">\n",
      "<td class=\"gene_symbol\">AAED1</td>\n",
      "<td class=\"num_polya_sites\"><a href=\"/apadb/browse/human/full_blood/AAED1/\" target=\"_blank\">2</a></td>\n",
      "<td class=\"num_utr3\">1</td>\n",
      "<td class=\"num_intron\">0</td>\n",
      "<td class=\"num_exon\">0</td>\n",
      "<td class=\"num_utr5\">0</td>\n",
      "<td class=\"num_extension\">1</td>\n",
      "<td class=\"total_reads_gene\">110</td>\n",
      "</tr>, <tr class=\"odd\">\n",
      "<td class=\"gene_symbol\">AAGAB</td>\n",
      "<td class=\"num_polya_sites\"><a href=\"/apadb/browse/human/full_blood/AAGAB/\" target=\"_blank\">2</a></td>\n",
      "<td class=\"num_utr3\">2</td>\n",
      "<td class=\"num_intron\">0</td>\n",
      "<td class=\"num_exon\">0</td>\n",
      "<td class=\"num_utr5\">0</td>\n",
      "<td class=\"num_extension\">0</td>\n",
      "<td class=\"total_reads_gene\">195</td>\n",
      "</tr>, <tr class=\"even\">\n",
      "<td class=\"gene_symbol\">AAK1</td>\n",
      "<td class=\"num_polya_sites\"><a href=\"/apadb/browse/human/full_blood/AAK1/\" target=\"_blank\">1</a></td>\n",
      "<td class=\"num_utr3\">1</td>\n",
      "<td class=\"num_intron\">0</td>\n",
      "<td class=\"num_exon\">0</td>\n",
      "<td class=\"num_utr5\">0</td>\n",
      "<td class=\"num_extension\">0</td>\n",
      "<td class=\"total_reads_gene\">215</td>\n",
      "</tr>, <tr class=\"odd\">\n",
      "<td class=\"gene_symbol\">AAMDC</td>\n",
      "<td class=\"num_polya_sites\"><a href=\"/apadb/browse/human/full_blood/AAMDC/\" target=\"_blank\">1</a></td>\n",
      "<td class=\"num_utr3\">1</td>\n",
      "<td class=\"num_intron\">0</td>\n",
      "<td class=\"num_exon\">0</td>\n",
      "<td class=\"num_utr5\">0</td>\n",
      "<td class=\"num_extension\">0</td>\n",
      "<td class=\"total_reads_gene\">32</td>\n",
      "</tr>, <tr class=\"even\">\n",
      "<td class=\"gene_symbol\">AAMP</td>\n",
      "<td class=\"num_polya_sites\"><a href=\"/apadb/browse/human/full_blood/AAMP/\" target=\"_blank\">1</a></td>\n",
      "<td class=\"num_utr3\">1</td>\n",
      "<td class=\"num_intron\">0</td>\n",
      "<td class=\"num_exon\">0</td>\n",
      "<td class=\"num_utr5\">0</td>\n",
      "<td class=\"num_extension\">0</td>\n",
      "<td class=\"total_reads_gene\">721</td>\n",
      "</tr>, <tr class=\"odd\">\n",
      "<td class=\"gene_symbol\">AAR2</td>\n",
      "<td class=\"num_polya_sites\"><a href=\"/apadb/browse/human/full_blood/AAR2/\" target=\"_blank\">1</a></td>\n",
      "<td class=\"num_utr3\">1</td>\n",
      "<td class=\"num_intron\">0</td>\n",
      "<td class=\"num_exon\">0</td>\n",
      "<td class=\"num_utr5\">0</td>\n",
      "<td class=\"num_extension\">0</td>\n",
      "<td class=\"total_reads_gene\">237</td>\n",
      "</tr>, <tr class=\"even\">\n",
      "<td class=\"gene_symbol\">AARS</td>\n",
      "<td class=\"num_polya_sites\"><a href=\"/apadb/browse/human/full_blood/AARS/\" target=\"_blank\">2</a></td>\n",
      "<td class=\"num_utr3\">1</td>\n",
      "<td class=\"num_intron\">0</td>\n",
      "<td class=\"num_exon\">0</td>\n",
      "<td class=\"num_utr5\">0</td>\n",
      "<td class=\"num_extension\">1</td>\n",
      "<td class=\"total_reads_gene\">187</td>\n",
      "</tr>, <tr class=\"odd\">\n",
      "<td class=\"gene_symbol\">AARS2</td>\n",
      "<td class=\"num_polya_sites\"><a href=\"/apadb/browse/human/full_blood/AARS2/\" target=\"_blank\">4</a></td>\n",
      "<td class=\"num_utr3\">4</td>\n",
      "<td class=\"num_intron\">0</td>\n",
      "<td class=\"num_exon\">0</td>\n",
      "<td class=\"num_utr5\">0</td>\n",
      "<td class=\"num_extension\">0</td>\n",
      "<td class=\"total_reads_gene\">55</td>\n",
      "</tr>, <tr class=\"even\">\n",
      "<td class=\"gene_symbol\">AARSD1,PTGES3L-AARSD1</td>\n",
      "<td class=\"num_polya_sites\"><a href=\"/apadb/browse/human/full_blood/AARSD1,PTGES3L-AARSD1/\" target=\"_blank\">1</a></td>\n",
      "<td class=\"num_utr3\">1</td>\n",
      "<td class=\"num_intron\">0</td>\n",
      "<td class=\"num_exon\">0</td>\n",
      "<td class=\"num_utr5\">0</td>\n",
      "<td class=\"num_extension\">0</td>\n",
      "<td class=\"total_reads_gene\">74</td>\n",
      "</tr>, <tr class=\"odd\">\n",
      "<td class=\"gene_symbol\">AARS,EXOSC6</td>\n",
      "<td class=\"num_polya_sites\"><a href=\"/apadb/browse/human/full_blood/AARS,EXOSC6/\" target=\"_blank\">2</a></td>\n",
      "<td class=\"num_utr3\">0</td>\n",
      "<td class=\"num_intron\">0</td>\n",
      "<td class=\"num_exon\">0</td>\n",
      "<td class=\"num_utr5\">0</td>\n",
      "<td class=\"num_extension\">2</td>\n",
      "<td class=\"total_reads_gene\">32</td>\n",
      "</tr>, <tr class=\"even\">\n",
      "<td class=\"gene_symbol\">AASDH</td>\n",
      "<td class=\"num_polya_sites\"><a href=\"/apadb/browse/human/full_blood/AASDH/\" target=\"_blank\">2</a></td>\n",
      "<td class=\"num_utr3\">2</td>\n",
      "<td class=\"num_intron\">0</td>\n",
      "<td class=\"num_exon\">0</td>\n",
      "<td class=\"num_utr5\">0</td>\n",
      "<td class=\"num_extension\">0</td>\n",
      "<td class=\"total_reads_gene\">39</td>\n",
      "</tr>, <tr class=\"odd\">\n",
      "<td class=\"gene_symbol\">AASDHPPT</td>\n",
      "<td class=\"num_polya_sites\"><a href=\"/apadb/browse/human/full_blood/AASDHPPT/\" target=\"_blank\">2</a></td>\n",
      "<td class=\"num_utr3\">2</td>\n",
      "<td class=\"num_intron\">0</td>\n",
      "<td class=\"num_exon\">0</td>\n",
      "<td class=\"num_utr5\">0</td>\n",
      "<td class=\"num_extension\">0</td>\n",
      "<td class=\"total_reads_gene\">147</td>\n",
      "</tr>, <tr class=\"even\">\n",
      "<td class=\"gene_symbol\">AATF</td>\n",
      "<td class=\"num_polya_sites\"><a href=\"/apadb/browse/human/full_blood/AATF/\" target=\"_blank\">1</a></td>\n",
      "<td class=\"num_utr3\">1</td>\n",
      "<td class=\"num_intron\">0</td>\n",
      "<td class=\"num_exon\">0</td>\n",
      "<td class=\"num_utr5\">0</td>\n",
      "<td class=\"num_extension\">0</td>\n",
      "<td class=\"total_reads_gene\">365</td>\n",
      "</tr>, <tr class=\"odd\">\n",
      "<td class=\"gene_symbol\">AATK</td>\n",
      "<td class=\"num_polya_sites\"><a href=\"/apadb/browse/human/full_blood/AATK/\" target=\"_blank\">1</a></td>\n",
      "<td class=\"num_utr3\">1</td>\n",
      "<td class=\"num_intron\">0</td>\n",
      "<td class=\"num_exon\">0</td>\n",
      "<td class=\"num_utr5\">0</td>\n",
      "<td class=\"num_extension\">0</td>\n",
      "<td class=\"total_reads_gene\">478</td>\n",
      "</tr>, <tr class=\"even\">\n",
      "<td class=\"gene_symbol\">ABAT</td>\n",
      "<td class=\"num_polya_sites\"><a href=\"/apadb/browse/human/full_blood/ABAT/\" target=\"_blank\">2</a></td>\n",
      "<td class=\"num_utr3\">2</td>\n",
      "<td class=\"num_intron\">0</td>\n",
      "<td class=\"num_exon\">0</td>\n",
      "<td class=\"num_utr5\">0</td>\n",
      "<td class=\"num_extension\">0</td>\n",
      "<td class=\"total_reads_gene\">172</td>\n",
      "</tr>, <tr class=\"odd\">\n",
      "<td class=\"gene_symbol\">ABCA1</td>\n",
      "<td class=\"num_polya_sites\"><a href=\"/apadb/browse/human/full_blood/ABCA1/\" target=\"_blank\">2</a></td>\n",
      "<td class=\"num_utr3\">2</td>\n",
      "<td class=\"num_intron\">0</td>\n",
      "<td class=\"num_exon\">0</td>\n",
      "<td class=\"num_utr5\">0</td>\n",
      "<td class=\"num_extension\">0</td>\n",
      "<td class=\"total_reads_gene\">55</td>\n",
      "</tr>, <tr class=\"even\">\n",
      "<td class=\"gene_symbol\">ABCA11P</td>\n",
      "<td class=\"num_polya_sites\"><a href=\"/apadb/browse/human/full_blood/ABCA11P/\" target=\"_blank\">1</a></td>\n",
      "<td class=\"num_utr3\">0</td>\n",
      "<td class=\"num_intron\">1</td>\n",
      "<td class=\"num_exon\">0</td>\n",
      "<td class=\"num_utr5\">0</td>\n",
      "<td class=\"num_extension\">0</td>\n",
      "<td class=\"total_reads_gene\">5</td>\n",
      "</tr>, <tr class=\"odd\">\n",
      "<td class=\"gene_symbol\">ABCA2</td>\n",
      "<td class=\"num_polya_sites\"><a href=\"/apadb/browse/human/full_blood/ABCA2/\" target=\"_blank\">1</a></td>\n",
      "<td class=\"num_utr3\">1</td>\n",
      "<td class=\"num_intron\">0</td>\n",
      "<td class=\"num_exon\">0</td>\n",
      "<td class=\"num_utr5\">0</td>\n",
      "<td class=\"num_extension\">0</td>\n",
      "<td class=\"total_reads_gene\">234</td>\n",
      "</tr>, <tr class=\"even\">\n",
      "<td class=\"gene_symbol\">ABCA3</td>\n",
      "<td class=\"num_polya_sites\"><a href=\"/apadb/browse/human/full_blood/ABCA3/\" target=\"_blank\">2</a></td>\n",
      "<td class=\"num_utr3\">1</td>\n",
      "<td class=\"num_intron\">1</td>\n",
      "<td class=\"num_exon\">0</td>\n",
      "<td class=\"num_utr5\">0</td>\n",
      "<td class=\"num_extension\">0</td>\n",
      "<td class=\"total_reads_gene\">23</td>\n",
      "</tr>, <tr class=\"odd\">\n",
      "<td class=\"gene_symbol\">ABCA5</td>\n",
      "<td class=\"num_polya_sites\"><a href=\"/apadb/browse/human/full_blood/ABCA5/\" target=\"_blank\">2</a></td>\n",
      "<td class=\"num_utr3\">2</td>\n",
      "<td class=\"num_intron\">0</td>\n",
      "<td class=\"num_exon\">0</td>\n",
      "<td class=\"num_utr5\">0</td>\n",
      "<td class=\"num_extension\">0</td>\n",
      "<td class=\"total_reads_gene\">44</td>\n",
      "</tr>, <tr class=\"even\">\n",
      "<td class=\"gene_symbol\">ABCA7</td>\n",
      "<td class=\"num_polya_sites\"><a href=\"/apadb/browse/human/full_blood/ABCA7/\" target=\"_blank\">1</a></td>\n",
      "<td class=\"num_utr3\">1</td>\n",
      "<td class=\"num_intron\">0</td>\n",
      "<td class=\"num_exon\">0</td>\n",
      "<td class=\"num_utr5\">0</td>\n",
      "<td class=\"num_extension\">0</td>\n",
      "<td class=\"total_reads_gene\">578</td>\n",
      "</tr>, <tr class=\"odd\">\n",
      "<td class=\"gene_symbol\">ABCB1</td>\n",
      "<td class=\"num_polya_sites\"><a href=\"/apadb/browse/human/full_blood/ABCB1/\" target=\"_blank\">1</a></td>\n",
      "<td class=\"num_utr3\">1</td>\n",
      "<td class=\"num_intron\">0</td>\n",
      "<td class=\"num_exon\">0</td>\n",
      "<td class=\"num_utr5\">0</td>\n",
      "<td class=\"num_extension\">0</td>\n",
      "<td class=\"total_reads_gene\">17</td>\n",
      "</tr>, <tr class=\"even\">\n",
      "<td class=\"gene_symbol\">ABCB10</td>\n",
      "<td class=\"num_polya_sites\"><a href=\"/apadb/browse/human/full_blood/ABCB10/\" target=\"_blank\">2</a></td>\n",
      "<td class=\"num_utr3\">2</td>\n",
      "<td class=\"num_intron\">0</td>\n",
      "<td class=\"num_exon\">0</td>\n",
      "<td class=\"num_utr5\">0</td>\n",
      "<td class=\"num_extension\">0</td>\n",
      "<td class=\"total_reads_gene\">104</td>\n",
      "</tr>, <tr class=\"odd\">\n",
      "<td class=\"gene_symbol\">ABCB6</td>\n",
      "<td class=\"num_polya_sites\"><a href=\"/apadb/browse/human/full_blood/ABCB6/\" target=\"_blank\">1</a></td>\n",
      "<td class=\"num_utr3\">1</td>\n",
      "<td class=\"num_intron\">0</td>\n",
      "<td class=\"num_exon\">0</td>\n",
      "<td class=\"num_utr5\">0</td>\n",
      "<td class=\"num_extension\">0</td>\n",
      "<td class=\"total_reads_gene\">29</td>\n",
      "</tr>, <tr class=\"even\">\n",
      "<td class=\"gene_symbol\">ABCB7</td>\n",
      "<td class=\"num_polya_sites\"><a href=\"/apadb/browse/human/full_blood/ABCB7/\" target=\"_blank\">3</a></td>\n",
      "<td class=\"num_utr3\">1</td>\n",
      "<td class=\"num_intron\">0</td>\n",
      "<td class=\"num_exon\">0</td>\n",
      "<td class=\"num_utr5\">0</td>\n",
      "<td class=\"num_extension\">2</td>\n",
      "<td class=\"total_reads_gene\">100</td>\n",
      "</tr>, <tr class=\"odd\">\n",
      "<td class=\"gene_symbol\">ABCB8</td>\n",
      "<td class=\"num_polya_sites\"><a href=\"/apadb/browse/human/full_blood/ABCB8/\" target=\"_blank\">5</a></td>\n",
      "<td class=\"num_utr3\">2</td>\n",
      "<td class=\"num_intron\">3</td>\n",
      "<td class=\"num_exon\">0</td>\n",
      "<td class=\"num_utr5\">0</td>\n",
      "<td class=\"num_extension\">0</td>\n",
      "<td class=\"total_reads_gene\">121</td>\n",
      "</tr>]\n"
     ]
    }
   ],
   "source": [
    "print(rows)"
   ]
  },
  {
   "cell_type": "code",
   "execution_count": 11,
   "metadata": {
    "scrolled": true
   },
   "outputs": [
    {
     "name": "stdout",
     "output_type": "stream",
     "text": [
      "[]\n",
      "[<td class=\"gene_symbol\">A1BG</td>, <td class=\"num_polya_sites\"><a href=\"/apadb/browse/human/full_blood/A1BG/\" target=\"_blank\">1</a></td>, <td class=\"num_utr3\">1</td>, <td class=\"num_intron\">0</td>, <td class=\"num_exon\">0</td>, <td class=\"num_utr5\">0</td>, <td class=\"num_extension\">0</td>, <td class=\"total_reads_gene\">145</td>]\n",
      "[<td class=\"gene_symbol\">A1BG-AS1</td>, <td class=\"num_polya_sites\"><a href=\"/apadb/browse/human/full_blood/A1BG-AS1/\" target=\"_blank\">2</a></td>, <td class=\"num_utr3\">0</td>, <td class=\"num_intron\">0</td>, <td class=\"num_exon\">0</td>, <td class=\"num_utr5\">0</td>, <td class=\"num_extension\">2</td>, <td class=\"total_reads_gene\">49</td>]\n",
      "[<td class=\"gene_symbol\">AAAS</td>, <td class=\"num_polya_sites\"><a href=\"/apadb/browse/human/full_blood/AAAS/\" target=\"_blank\">1</a></td>, <td class=\"num_utr3\">1</td>, <td class=\"num_intron\">0</td>, <td class=\"num_exon\">0</td>, <td class=\"num_utr5\">0</td>, <td class=\"num_extension\">0</td>, <td class=\"total_reads_gene\">245</td>]\n",
      "[<td class=\"gene_symbol\">AACS</td>, <td class=\"num_polya_sites\"><a href=\"/apadb/browse/human/full_blood/AACS/\" target=\"_blank\">1</a></td>, <td class=\"num_utr3\">1</td>, <td class=\"num_intron\">0</td>, <td class=\"num_exon\">0</td>, <td class=\"num_utr5\">0</td>, <td class=\"num_extension\">0</td>, <td class=\"total_reads_gene\">64</td>]\n",
      "[<td class=\"gene_symbol\">AAED1</td>, <td class=\"num_polya_sites\"><a href=\"/apadb/browse/human/full_blood/AAED1/\" target=\"_blank\">2</a></td>, <td class=\"num_utr3\">1</td>, <td class=\"num_intron\">0</td>, <td class=\"num_exon\">0</td>, <td class=\"num_utr5\">0</td>, <td class=\"num_extension\">1</td>, <td class=\"total_reads_gene\">110</td>]\n",
      "[<td class=\"gene_symbol\">AAGAB</td>, <td class=\"num_polya_sites\"><a href=\"/apadb/browse/human/full_blood/AAGAB/\" target=\"_blank\">2</a></td>, <td class=\"num_utr3\">2</td>, <td class=\"num_intron\">0</td>, <td class=\"num_exon\">0</td>, <td class=\"num_utr5\">0</td>, <td class=\"num_extension\">0</td>, <td class=\"total_reads_gene\">195</td>]\n",
      "[<td class=\"gene_symbol\">AAK1</td>, <td class=\"num_polya_sites\"><a href=\"/apadb/browse/human/full_blood/AAK1/\" target=\"_blank\">1</a></td>, <td class=\"num_utr3\">1</td>, <td class=\"num_intron\">0</td>, <td class=\"num_exon\">0</td>, <td class=\"num_utr5\">0</td>, <td class=\"num_extension\">0</td>, <td class=\"total_reads_gene\">215</td>]\n",
      "[<td class=\"gene_symbol\">AAMDC</td>, <td class=\"num_polya_sites\"><a href=\"/apadb/browse/human/full_blood/AAMDC/\" target=\"_blank\">1</a></td>, <td class=\"num_utr3\">1</td>, <td class=\"num_intron\">0</td>, <td class=\"num_exon\">0</td>, <td class=\"num_utr5\">0</td>, <td class=\"num_extension\">0</td>, <td class=\"total_reads_gene\">32</td>]\n",
      "[<td class=\"gene_symbol\">AAMP</td>, <td class=\"num_polya_sites\"><a href=\"/apadb/browse/human/full_blood/AAMP/\" target=\"_blank\">1</a></td>, <td class=\"num_utr3\">1</td>, <td class=\"num_intron\">0</td>, <td class=\"num_exon\">0</td>, <td class=\"num_utr5\">0</td>, <td class=\"num_extension\">0</td>, <td class=\"total_reads_gene\">721</td>]\n",
      "[<td class=\"gene_symbol\">AAR2</td>, <td class=\"num_polya_sites\"><a href=\"/apadb/browse/human/full_blood/AAR2/\" target=\"_blank\">1</a></td>, <td class=\"num_utr3\">1</td>, <td class=\"num_intron\">0</td>, <td class=\"num_exon\">0</td>, <td class=\"num_utr5\">0</td>, <td class=\"num_extension\">0</td>, <td class=\"total_reads_gene\">237</td>]\n",
      "[<td class=\"gene_symbol\">AARS</td>, <td class=\"num_polya_sites\"><a href=\"/apadb/browse/human/full_blood/AARS/\" target=\"_blank\">2</a></td>, <td class=\"num_utr3\">1</td>, <td class=\"num_intron\">0</td>, <td class=\"num_exon\">0</td>, <td class=\"num_utr5\">0</td>, <td class=\"num_extension\">1</td>, <td class=\"total_reads_gene\">187</td>]\n",
      "[<td class=\"gene_symbol\">AARS2</td>, <td class=\"num_polya_sites\"><a href=\"/apadb/browse/human/full_blood/AARS2/\" target=\"_blank\">4</a></td>, <td class=\"num_utr3\">4</td>, <td class=\"num_intron\">0</td>, <td class=\"num_exon\">0</td>, <td class=\"num_utr5\">0</td>, <td class=\"num_extension\">0</td>, <td class=\"total_reads_gene\">55</td>]\n",
      "[<td class=\"gene_symbol\">AARSD1,PTGES3L-AARSD1</td>, <td class=\"num_polya_sites\"><a href=\"/apadb/browse/human/full_blood/AARSD1,PTGES3L-AARSD1/\" target=\"_blank\">1</a></td>, <td class=\"num_utr3\">1</td>, <td class=\"num_intron\">0</td>, <td class=\"num_exon\">0</td>, <td class=\"num_utr5\">0</td>, <td class=\"num_extension\">0</td>, <td class=\"total_reads_gene\">74</td>]\n",
      "[<td class=\"gene_symbol\">AARS,EXOSC6</td>, <td class=\"num_polya_sites\"><a href=\"/apadb/browse/human/full_blood/AARS,EXOSC6/\" target=\"_blank\">2</a></td>, <td class=\"num_utr3\">0</td>, <td class=\"num_intron\">0</td>, <td class=\"num_exon\">0</td>, <td class=\"num_utr5\">0</td>, <td class=\"num_extension\">2</td>, <td class=\"total_reads_gene\">32</td>]\n",
      "[<td class=\"gene_symbol\">AASDH</td>, <td class=\"num_polya_sites\"><a href=\"/apadb/browse/human/full_blood/AASDH/\" target=\"_blank\">2</a></td>, <td class=\"num_utr3\">2</td>, <td class=\"num_intron\">0</td>, <td class=\"num_exon\">0</td>, <td class=\"num_utr5\">0</td>, <td class=\"num_extension\">0</td>, <td class=\"total_reads_gene\">39</td>]\n",
      "[<td class=\"gene_symbol\">AASDHPPT</td>, <td class=\"num_polya_sites\"><a href=\"/apadb/browse/human/full_blood/AASDHPPT/\" target=\"_blank\">2</a></td>, <td class=\"num_utr3\">2</td>, <td class=\"num_intron\">0</td>, <td class=\"num_exon\">0</td>, <td class=\"num_utr5\">0</td>, <td class=\"num_extension\">0</td>, <td class=\"total_reads_gene\">147</td>]\n",
      "[<td class=\"gene_symbol\">AATF</td>, <td class=\"num_polya_sites\"><a href=\"/apadb/browse/human/full_blood/AATF/\" target=\"_blank\">1</a></td>, <td class=\"num_utr3\">1</td>, <td class=\"num_intron\">0</td>, <td class=\"num_exon\">0</td>, <td class=\"num_utr5\">0</td>, <td class=\"num_extension\">0</td>, <td class=\"total_reads_gene\">365</td>]\n",
      "[<td class=\"gene_symbol\">AATK</td>, <td class=\"num_polya_sites\"><a href=\"/apadb/browse/human/full_blood/AATK/\" target=\"_blank\">1</a></td>, <td class=\"num_utr3\">1</td>, <td class=\"num_intron\">0</td>, <td class=\"num_exon\">0</td>, <td class=\"num_utr5\">0</td>, <td class=\"num_extension\">0</td>, <td class=\"total_reads_gene\">478</td>]\n",
      "[<td class=\"gene_symbol\">ABAT</td>, <td class=\"num_polya_sites\"><a href=\"/apadb/browse/human/full_blood/ABAT/\" target=\"_blank\">2</a></td>, <td class=\"num_utr3\">2</td>, <td class=\"num_intron\">0</td>, <td class=\"num_exon\">0</td>, <td class=\"num_utr5\">0</td>, <td class=\"num_extension\">0</td>, <td class=\"total_reads_gene\">172</td>]\n",
      "[<td class=\"gene_symbol\">ABCA1</td>, <td class=\"num_polya_sites\"><a href=\"/apadb/browse/human/full_blood/ABCA1/\" target=\"_blank\">2</a></td>, <td class=\"num_utr3\">2</td>, <td class=\"num_intron\">0</td>, <td class=\"num_exon\">0</td>, <td class=\"num_utr5\">0</td>, <td class=\"num_extension\">0</td>, <td class=\"total_reads_gene\">55</td>]\n",
      "[<td class=\"gene_symbol\">ABCA11P</td>, <td class=\"num_polya_sites\"><a href=\"/apadb/browse/human/full_blood/ABCA11P/\" target=\"_blank\">1</a></td>, <td class=\"num_utr3\">0</td>, <td class=\"num_intron\">1</td>, <td class=\"num_exon\">0</td>, <td class=\"num_utr5\">0</td>, <td class=\"num_extension\">0</td>, <td class=\"total_reads_gene\">5</td>]\n",
      "[<td class=\"gene_symbol\">ABCA2</td>, <td class=\"num_polya_sites\"><a href=\"/apadb/browse/human/full_blood/ABCA2/\" target=\"_blank\">1</a></td>, <td class=\"num_utr3\">1</td>, <td class=\"num_intron\">0</td>, <td class=\"num_exon\">0</td>, <td class=\"num_utr5\">0</td>, <td class=\"num_extension\">0</td>, <td class=\"total_reads_gene\">234</td>]\n",
      "[<td class=\"gene_symbol\">ABCA3</td>, <td class=\"num_polya_sites\"><a href=\"/apadb/browse/human/full_blood/ABCA3/\" target=\"_blank\">2</a></td>, <td class=\"num_utr3\">1</td>, <td class=\"num_intron\">1</td>, <td class=\"num_exon\">0</td>, <td class=\"num_utr5\">0</td>, <td class=\"num_extension\">0</td>, <td class=\"total_reads_gene\">23</td>]\n",
      "[<td class=\"gene_symbol\">ABCA5</td>, <td class=\"num_polya_sites\"><a href=\"/apadb/browse/human/full_blood/ABCA5/\" target=\"_blank\">2</a></td>, <td class=\"num_utr3\">2</td>, <td class=\"num_intron\">0</td>, <td class=\"num_exon\">0</td>, <td class=\"num_utr5\">0</td>, <td class=\"num_extension\">0</td>, <td class=\"total_reads_gene\">44</td>]\n",
      "[<td class=\"gene_symbol\">ABCA7</td>, <td class=\"num_polya_sites\"><a href=\"/apadb/browse/human/full_blood/ABCA7/\" target=\"_blank\">1</a></td>, <td class=\"num_utr3\">1</td>, <td class=\"num_intron\">0</td>, <td class=\"num_exon\">0</td>, <td class=\"num_utr5\">0</td>, <td class=\"num_extension\">0</td>, <td class=\"total_reads_gene\">578</td>]\n",
      "[<td class=\"gene_symbol\">ABCB1</td>, <td class=\"num_polya_sites\"><a href=\"/apadb/browse/human/full_blood/ABCB1/\" target=\"_blank\">1</a></td>, <td class=\"num_utr3\">1</td>, <td class=\"num_intron\">0</td>, <td class=\"num_exon\">0</td>, <td class=\"num_utr5\">0</td>, <td class=\"num_extension\">0</td>, <td class=\"total_reads_gene\">17</td>]\n",
      "[<td class=\"gene_symbol\">ABCB10</td>, <td class=\"num_polya_sites\"><a href=\"/apadb/browse/human/full_blood/ABCB10/\" target=\"_blank\">2</a></td>, <td class=\"num_utr3\">2</td>, <td class=\"num_intron\">0</td>, <td class=\"num_exon\">0</td>, <td class=\"num_utr5\">0</td>, <td class=\"num_extension\">0</td>, <td class=\"total_reads_gene\">104</td>]\n",
      "[<td class=\"gene_symbol\">ABCB6</td>, <td class=\"num_polya_sites\"><a href=\"/apadb/browse/human/full_blood/ABCB6/\" target=\"_blank\">1</a></td>, <td class=\"num_utr3\">1</td>, <td class=\"num_intron\">0</td>, <td class=\"num_exon\">0</td>, <td class=\"num_utr5\">0</td>, <td class=\"num_extension\">0</td>, <td class=\"total_reads_gene\">29</td>]\n",
      "[<td class=\"gene_symbol\">ABCB7</td>, <td class=\"num_polya_sites\"><a href=\"/apadb/browse/human/full_blood/ABCB7/\" target=\"_blank\">3</a></td>, <td class=\"num_utr3\">1</td>, <td class=\"num_intron\">0</td>, <td class=\"num_exon\">0</td>, <td class=\"num_utr5\">0</td>, <td class=\"num_extension\">2</td>, <td class=\"total_reads_gene\">100</td>]\n",
      "[<td class=\"gene_symbol\">ABCB8</td>, <td class=\"num_polya_sites\"><a href=\"/apadb/browse/human/full_blood/ABCB8/\" target=\"_blank\">5</a></td>, <td class=\"num_utr3\">2</td>, <td class=\"num_intron\">3</td>, <td class=\"num_exon\">0</td>, <td class=\"num_utr5\">0</td>, <td class=\"num_extension\">0</td>, <td class=\"total_reads_gene\">121</td>]\n",
      "{}\n"
     ]
    }
   ],
   "source": [
    "results = {}\n",
    "for row in table.findAll('tr'):\n",
    "    aux = row.findAll('td')\n",
    "    print(aux)\n",
    "print(results)"
   ]
  },
  {
   "cell_type": "code",
   "execution_count": 13,
   "metadata": {},
   "outputs": [
    {
     "name": "stdout",
     "output_type": "stream",
     "text": [
      "['\\n', <th class=\"asc gene_symbol orderable\"><a href=\"?sort=-gene_symbol&amp;page=1\">Gene_Symbol</a></th>, '\\n', <th class=\"num_polya_sites orderable\"><a href=\"?sort=num_polya_sites&amp;page=1\">PolyA Sites</a></th>, '\\n', <th class=\"num_utr3 orderable\"><a href=\"?sort=num_utr3&amp;page=1\">Sites In UTR3</a></th>, '\\n', <th class=\"num_intron orderable\"><a href=\"?sort=num_intron&amp;page=1\">Sites In Intron</a></th>, '\\n', <th class=\"num_exon orderable\"><a href=\"?sort=num_exon&amp;page=1\">Sites In Exon</a></th>, '\\n', <th class=\"num_utr5 orderable\"><a href=\"?sort=num_utr5&amp;page=1\">Sites In UTR5</a></th>, '\\n', <th class=\"num_extension orderable\"><a href=\"?sort=num_extension&amp;page=1\">Sites In Extension</a></th>, '\\n', <th class=\"orderable total_reads_gene\"><a href=\"?sort=total_reads_gene&amp;page=1\">Total_Reads_Gene</a></th>, '\\n']\n",
      "['\\n', <td class=\"gene_symbol\">A1BG</td>, '\\n', <td class=\"num_polya_sites\"><a href=\"/apadb/browse/human/full_blood/A1BG/\" target=\"_blank\">1</a></td>, '\\n', <td class=\"num_utr3\">1</td>, '\\n', <td class=\"num_intron\">0</td>, '\\n', <td class=\"num_exon\">0</td>, '\\n', <td class=\"num_utr5\">0</td>, '\\n', <td class=\"num_extension\">0</td>, '\\n', <td class=\"total_reads_gene\">145</td>, '\\n']\n",
      "['\\n', <td class=\"gene_symbol\">A1BG-AS1</td>, '\\n', <td class=\"num_polya_sites\"><a href=\"/apadb/browse/human/full_blood/A1BG-AS1/\" target=\"_blank\">2</a></td>, '\\n', <td class=\"num_utr3\">0</td>, '\\n', <td class=\"num_intron\">0</td>, '\\n', <td class=\"num_exon\">0</td>, '\\n', <td class=\"num_utr5\">0</td>, '\\n', <td class=\"num_extension\">2</td>, '\\n', <td class=\"total_reads_gene\">49</td>, '\\n']\n",
      "['\\n', <td class=\"gene_symbol\">AAAS</td>, '\\n', <td class=\"num_polya_sites\"><a href=\"/apadb/browse/human/full_blood/AAAS/\" target=\"_blank\">1</a></td>, '\\n', <td class=\"num_utr3\">1</td>, '\\n', <td class=\"num_intron\">0</td>, '\\n', <td class=\"num_exon\">0</td>, '\\n', <td class=\"num_utr5\">0</td>, '\\n', <td class=\"num_extension\">0</td>, '\\n', <td class=\"total_reads_gene\">245</td>, '\\n']\n",
      "['\\n', <td class=\"gene_symbol\">AACS</td>, '\\n', <td class=\"num_polya_sites\"><a href=\"/apadb/browse/human/full_blood/AACS/\" target=\"_blank\">1</a></td>, '\\n', <td class=\"num_utr3\">1</td>, '\\n', <td class=\"num_intron\">0</td>, '\\n', <td class=\"num_exon\">0</td>, '\\n', <td class=\"num_utr5\">0</td>, '\\n', <td class=\"num_extension\">0</td>, '\\n', <td class=\"total_reads_gene\">64</td>, '\\n']\n",
      "['\\n', <td class=\"gene_symbol\">AAED1</td>, '\\n', <td class=\"num_polya_sites\"><a href=\"/apadb/browse/human/full_blood/AAED1/\" target=\"_blank\">2</a></td>, '\\n', <td class=\"num_utr3\">1</td>, '\\n', <td class=\"num_intron\">0</td>, '\\n', <td class=\"num_exon\">0</td>, '\\n', <td class=\"num_utr5\">0</td>, '\\n', <td class=\"num_extension\">1</td>, '\\n', <td class=\"total_reads_gene\">110</td>, '\\n']\n",
      "['\\n', <td class=\"gene_symbol\">AAGAB</td>, '\\n', <td class=\"num_polya_sites\"><a href=\"/apadb/browse/human/full_blood/AAGAB/\" target=\"_blank\">2</a></td>, '\\n', <td class=\"num_utr3\">2</td>, '\\n', <td class=\"num_intron\">0</td>, '\\n', <td class=\"num_exon\">0</td>, '\\n', <td class=\"num_utr5\">0</td>, '\\n', <td class=\"num_extension\">0</td>, '\\n', <td class=\"total_reads_gene\">195</td>, '\\n']\n",
      "['\\n', <td class=\"gene_symbol\">AAK1</td>, '\\n', <td class=\"num_polya_sites\"><a href=\"/apadb/browse/human/full_blood/AAK1/\" target=\"_blank\">1</a></td>, '\\n', <td class=\"num_utr3\">1</td>, '\\n', <td class=\"num_intron\">0</td>, '\\n', <td class=\"num_exon\">0</td>, '\\n', <td class=\"num_utr5\">0</td>, '\\n', <td class=\"num_extension\">0</td>, '\\n', <td class=\"total_reads_gene\">215</td>, '\\n']\n",
      "['\\n', <td class=\"gene_symbol\">AAMDC</td>, '\\n', <td class=\"num_polya_sites\"><a href=\"/apadb/browse/human/full_blood/AAMDC/\" target=\"_blank\">1</a></td>, '\\n', <td class=\"num_utr3\">1</td>, '\\n', <td class=\"num_intron\">0</td>, '\\n', <td class=\"num_exon\">0</td>, '\\n', <td class=\"num_utr5\">0</td>, '\\n', <td class=\"num_extension\">0</td>, '\\n', <td class=\"total_reads_gene\">32</td>, '\\n']\n",
      "['\\n', <td class=\"gene_symbol\">AAMP</td>, '\\n', <td class=\"num_polya_sites\"><a href=\"/apadb/browse/human/full_blood/AAMP/\" target=\"_blank\">1</a></td>, '\\n', <td class=\"num_utr3\">1</td>, '\\n', <td class=\"num_intron\">0</td>, '\\n', <td class=\"num_exon\">0</td>, '\\n', <td class=\"num_utr5\">0</td>, '\\n', <td class=\"num_extension\">0</td>, '\\n', <td class=\"total_reads_gene\">721</td>, '\\n']\n",
      "['\\n', <td class=\"gene_symbol\">AAR2</td>, '\\n', <td class=\"num_polya_sites\"><a href=\"/apadb/browse/human/full_blood/AAR2/\" target=\"_blank\">1</a></td>, '\\n', <td class=\"num_utr3\">1</td>, '\\n', <td class=\"num_intron\">0</td>, '\\n', <td class=\"num_exon\">0</td>, '\\n', <td class=\"num_utr5\">0</td>, '\\n', <td class=\"num_extension\">0</td>, '\\n', <td class=\"total_reads_gene\">237</td>, '\\n']\n",
      "['\\n', <td class=\"gene_symbol\">AARS</td>, '\\n', <td class=\"num_polya_sites\"><a href=\"/apadb/browse/human/full_blood/AARS/\" target=\"_blank\">2</a></td>, '\\n', <td class=\"num_utr3\">1</td>, '\\n', <td class=\"num_intron\">0</td>, '\\n', <td class=\"num_exon\">0</td>, '\\n', <td class=\"num_utr5\">0</td>, '\\n', <td class=\"num_extension\">1</td>, '\\n', <td class=\"total_reads_gene\">187</td>, '\\n']\n",
      "['\\n', <td class=\"gene_symbol\">AARS2</td>, '\\n', <td class=\"num_polya_sites\"><a href=\"/apadb/browse/human/full_blood/AARS2/\" target=\"_blank\">4</a></td>, '\\n', <td class=\"num_utr3\">4</td>, '\\n', <td class=\"num_intron\">0</td>, '\\n', <td class=\"num_exon\">0</td>, '\\n', <td class=\"num_utr5\">0</td>, '\\n', <td class=\"num_extension\">0</td>, '\\n', <td class=\"total_reads_gene\">55</td>, '\\n']\n",
      "['\\n', <td class=\"gene_symbol\">AARSD1,PTGES3L-AARSD1</td>, '\\n', <td class=\"num_polya_sites\"><a href=\"/apadb/browse/human/full_blood/AARSD1,PTGES3L-AARSD1/\" target=\"_blank\">1</a></td>, '\\n', <td class=\"num_utr3\">1</td>, '\\n', <td class=\"num_intron\">0</td>, '\\n', <td class=\"num_exon\">0</td>, '\\n', <td class=\"num_utr5\">0</td>, '\\n', <td class=\"num_extension\">0</td>, '\\n', <td class=\"total_reads_gene\">74</td>, '\\n']\n",
      "['\\n', <td class=\"gene_symbol\">AARS,EXOSC6</td>, '\\n', <td class=\"num_polya_sites\"><a href=\"/apadb/browse/human/full_blood/AARS,EXOSC6/\" target=\"_blank\">2</a></td>, '\\n', <td class=\"num_utr3\">0</td>, '\\n', <td class=\"num_intron\">0</td>, '\\n', <td class=\"num_exon\">0</td>, '\\n', <td class=\"num_utr5\">0</td>, '\\n', <td class=\"num_extension\">2</td>, '\\n', <td class=\"total_reads_gene\">32</td>, '\\n']\n",
      "['\\n', <td class=\"gene_symbol\">AASDH</td>, '\\n', <td class=\"num_polya_sites\"><a href=\"/apadb/browse/human/full_blood/AASDH/\" target=\"_blank\">2</a></td>, '\\n', <td class=\"num_utr3\">2</td>, '\\n', <td class=\"num_intron\">0</td>, '\\n', <td class=\"num_exon\">0</td>, '\\n', <td class=\"num_utr5\">0</td>, '\\n', <td class=\"num_extension\">0</td>, '\\n', <td class=\"total_reads_gene\">39</td>, '\\n']\n",
      "['\\n', <td class=\"gene_symbol\">AASDHPPT</td>, '\\n', <td class=\"num_polya_sites\"><a href=\"/apadb/browse/human/full_blood/AASDHPPT/\" target=\"_blank\">2</a></td>, '\\n', <td class=\"num_utr3\">2</td>, '\\n', <td class=\"num_intron\">0</td>, '\\n', <td class=\"num_exon\">0</td>, '\\n', <td class=\"num_utr5\">0</td>, '\\n', <td class=\"num_extension\">0</td>, '\\n', <td class=\"total_reads_gene\">147</td>, '\\n']\n",
      "['\\n', <td class=\"gene_symbol\">AATF</td>, '\\n', <td class=\"num_polya_sites\"><a href=\"/apadb/browse/human/full_blood/AATF/\" target=\"_blank\">1</a></td>, '\\n', <td class=\"num_utr3\">1</td>, '\\n', <td class=\"num_intron\">0</td>, '\\n', <td class=\"num_exon\">0</td>, '\\n', <td class=\"num_utr5\">0</td>, '\\n', <td class=\"num_extension\">0</td>, '\\n', <td class=\"total_reads_gene\">365</td>, '\\n']\n",
      "['\\n', <td class=\"gene_symbol\">AATK</td>, '\\n', <td class=\"num_polya_sites\"><a href=\"/apadb/browse/human/full_blood/AATK/\" target=\"_blank\">1</a></td>, '\\n', <td class=\"num_utr3\">1</td>, '\\n', <td class=\"num_intron\">0</td>, '\\n', <td class=\"num_exon\">0</td>, '\\n', <td class=\"num_utr5\">0</td>, '\\n', <td class=\"num_extension\">0</td>, '\\n', <td class=\"total_reads_gene\">478</td>, '\\n']\n",
      "['\\n', <td class=\"gene_symbol\">ABAT</td>, '\\n', <td class=\"num_polya_sites\"><a href=\"/apadb/browse/human/full_blood/ABAT/\" target=\"_blank\">2</a></td>, '\\n', <td class=\"num_utr3\">2</td>, '\\n', <td class=\"num_intron\">0</td>, '\\n', <td class=\"num_exon\">0</td>, '\\n', <td class=\"num_utr5\">0</td>, '\\n', <td class=\"num_extension\">0</td>, '\\n', <td class=\"total_reads_gene\">172</td>, '\\n']\n",
      "['\\n', <td class=\"gene_symbol\">ABCA1</td>, '\\n', <td class=\"num_polya_sites\"><a href=\"/apadb/browse/human/full_blood/ABCA1/\" target=\"_blank\">2</a></td>, '\\n', <td class=\"num_utr3\">2</td>, '\\n', <td class=\"num_intron\">0</td>, '\\n', <td class=\"num_exon\">0</td>, '\\n', <td class=\"num_utr5\">0</td>, '\\n', <td class=\"num_extension\">0</td>, '\\n', <td class=\"total_reads_gene\">55</td>, '\\n']\n",
      "['\\n', <td class=\"gene_symbol\">ABCA11P</td>, '\\n', <td class=\"num_polya_sites\"><a href=\"/apadb/browse/human/full_blood/ABCA11P/\" target=\"_blank\">1</a></td>, '\\n', <td class=\"num_utr3\">0</td>, '\\n', <td class=\"num_intron\">1</td>, '\\n', <td class=\"num_exon\">0</td>, '\\n', <td class=\"num_utr5\">0</td>, '\\n', <td class=\"num_extension\">0</td>, '\\n', <td class=\"total_reads_gene\">5</td>, '\\n']\n",
      "['\\n', <td class=\"gene_symbol\">ABCA2</td>, '\\n', <td class=\"num_polya_sites\"><a href=\"/apadb/browse/human/full_blood/ABCA2/\" target=\"_blank\">1</a></td>, '\\n', <td class=\"num_utr3\">1</td>, '\\n', <td class=\"num_intron\">0</td>, '\\n', <td class=\"num_exon\">0</td>, '\\n', <td class=\"num_utr5\">0</td>, '\\n', <td class=\"num_extension\">0</td>, '\\n', <td class=\"total_reads_gene\">234</td>, '\\n']\n",
      "['\\n', <td class=\"gene_symbol\">ABCA3</td>, '\\n', <td class=\"num_polya_sites\"><a href=\"/apadb/browse/human/full_blood/ABCA3/\" target=\"_blank\">2</a></td>, '\\n', <td class=\"num_utr3\">1</td>, '\\n', <td class=\"num_intron\">1</td>, '\\n', <td class=\"num_exon\">0</td>, '\\n', <td class=\"num_utr5\">0</td>, '\\n', <td class=\"num_extension\">0</td>, '\\n', <td class=\"total_reads_gene\">23</td>, '\\n']\n",
      "['\\n', <td class=\"gene_symbol\">ABCA5</td>, '\\n', <td class=\"num_polya_sites\"><a href=\"/apadb/browse/human/full_blood/ABCA5/\" target=\"_blank\">2</a></td>, '\\n', <td class=\"num_utr3\">2</td>, '\\n', <td class=\"num_intron\">0</td>, '\\n', <td class=\"num_exon\">0</td>, '\\n', <td class=\"num_utr5\">0</td>, '\\n', <td class=\"num_extension\">0</td>, '\\n', <td class=\"total_reads_gene\">44</td>, '\\n']\n",
      "['\\n', <td class=\"gene_symbol\">ABCA7</td>, '\\n', <td class=\"num_polya_sites\"><a href=\"/apadb/browse/human/full_blood/ABCA7/\" target=\"_blank\">1</a></td>, '\\n', <td class=\"num_utr3\">1</td>, '\\n', <td class=\"num_intron\">0</td>, '\\n', <td class=\"num_exon\">0</td>, '\\n', <td class=\"num_utr5\">0</td>, '\\n', <td class=\"num_extension\">0</td>, '\\n', <td class=\"total_reads_gene\">578</td>, '\\n']\n",
      "['\\n', <td class=\"gene_symbol\">ABCB1</td>, '\\n', <td class=\"num_polya_sites\"><a href=\"/apadb/browse/human/full_blood/ABCB1/\" target=\"_blank\">1</a></td>, '\\n', <td class=\"num_utr3\">1</td>, '\\n', <td class=\"num_intron\">0</td>, '\\n', <td class=\"num_exon\">0</td>, '\\n', <td class=\"num_utr5\">0</td>, '\\n', <td class=\"num_extension\">0</td>, '\\n', <td class=\"total_reads_gene\">17</td>, '\\n']\n",
      "['\\n', <td class=\"gene_symbol\">ABCB10</td>, '\\n', <td class=\"num_polya_sites\"><a href=\"/apadb/browse/human/full_blood/ABCB10/\" target=\"_blank\">2</a></td>, '\\n', <td class=\"num_utr3\">2</td>, '\\n', <td class=\"num_intron\">0</td>, '\\n', <td class=\"num_exon\">0</td>, '\\n', <td class=\"num_utr5\">0</td>, '\\n', <td class=\"num_extension\">0</td>, '\\n', <td class=\"total_reads_gene\">104</td>, '\\n']\n",
      "['\\n', <td class=\"gene_symbol\">ABCB6</td>, '\\n', <td class=\"num_polya_sites\"><a href=\"/apadb/browse/human/full_blood/ABCB6/\" target=\"_blank\">1</a></td>, '\\n', <td class=\"num_utr3\">1</td>, '\\n', <td class=\"num_intron\">0</td>, '\\n', <td class=\"num_exon\">0</td>, '\\n', <td class=\"num_utr5\">0</td>, '\\n', <td class=\"num_extension\">0</td>, '\\n', <td class=\"total_reads_gene\">29</td>, '\\n']\n",
      "['\\n', <td class=\"gene_symbol\">ABCB7</td>, '\\n', <td class=\"num_polya_sites\"><a href=\"/apadb/browse/human/full_blood/ABCB7/\" target=\"_blank\">3</a></td>, '\\n', <td class=\"num_utr3\">1</td>, '\\n', <td class=\"num_intron\">0</td>, '\\n', <td class=\"num_exon\">0</td>, '\\n', <td class=\"num_utr5\">0</td>, '\\n', <td class=\"num_extension\">2</td>, '\\n', <td class=\"total_reads_gene\">100</td>, '\\n']\n",
      "['\\n', <td class=\"gene_symbol\">ABCB8</td>, '\\n', <td class=\"num_polya_sites\"><a href=\"/apadb/browse/human/full_blood/ABCB8/\" target=\"_blank\">5</a></td>, '\\n', <td class=\"num_utr3\">2</td>, '\\n', <td class=\"num_intron\">3</td>, '\\n', <td class=\"num_exon\">0</td>, '\\n', <td class=\"num_utr5\">0</td>, '\\n', <td class=\"num_extension\">0</td>, '\\n', <td class=\"total_reads_gene\">121</td>, '\\n']\n"
     ]
    }
   ],
   "source": [
    "for i in range(len(rows)):\n",
    "    print(rows[i].contents)"
   ]
  },
  {
   "cell_type": "code",
   "execution_count": 20,
   "metadata": {},
   "outputs": [],
   "source": [
    "rows_cont = [None]\n",
    "for k in range(len(rows)):\n",
    "    rows_cont.append(rows[k].contents)"
   ]
  },
  {
   "cell_type": "code",
   "execution_count": 21,
   "metadata": {
    "scrolled": true
   },
   "outputs": [
    {
     "name": "stdout",
     "output_type": "stream",
     "text": [
      "[None, ['\\n', <th class=\"asc gene_symbol orderable\"><a href=\"?sort=-gene_symbol&amp;page=1\">Gene_Symbol</a></th>, '\\n', <th class=\"num_polya_sites orderable\"><a href=\"?sort=num_polya_sites&amp;page=1\">PolyA Sites</a></th>, '\\n', <th class=\"num_utr3 orderable\"><a href=\"?sort=num_utr3&amp;page=1\">Sites In UTR3</a></th>, '\\n', <th class=\"num_intron orderable\"><a href=\"?sort=num_intron&amp;page=1\">Sites In Intron</a></th>, '\\n', <th class=\"num_exon orderable\"><a href=\"?sort=num_exon&amp;page=1\">Sites In Exon</a></th>, '\\n', <th class=\"num_utr5 orderable\"><a href=\"?sort=num_utr5&amp;page=1\">Sites In UTR5</a></th>, '\\n', <th class=\"num_extension orderable\"><a href=\"?sort=num_extension&amp;page=1\">Sites In Extension</a></th>, '\\n', <th class=\"orderable total_reads_gene\"><a href=\"?sort=total_reads_gene&amp;page=1\">Total_Reads_Gene</a></th>, '\\n'], ['\\n', <td class=\"gene_symbol\">A1BG</td>, '\\n', <td class=\"num_polya_sites\"><a href=\"/apadb/browse/human/full_blood/A1BG/\" target=\"_blank\">1</a></td>, '\\n', <td class=\"num_utr3\">1</td>, '\\n', <td class=\"num_intron\">0</td>, '\\n', <td class=\"num_exon\">0</td>, '\\n', <td class=\"num_utr5\">0</td>, '\\n', <td class=\"num_extension\">0</td>, '\\n', <td class=\"total_reads_gene\">145</td>, '\\n'], ['\\n', <td class=\"gene_symbol\">A1BG-AS1</td>, '\\n', <td class=\"num_polya_sites\"><a href=\"/apadb/browse/human/full_blood/A1BG-AS1/\" target=\"_blank\">2</a></td>, '\\n', <td class=\"num_utr3\">0</td>, '\\n', <td class=\"num_intron\">0</td>, '\\n', <td class=\"num_exon\">0</td>, '\\n', <td class=\"num_utr5\">0</td>, '\\n', <td class=\"num_extension\">2</td>, '\\n', <td class=\"total_reads_gene\">49</td>, '\\n'], ['\\n', <td class=\"gene_symbol\">AAAS</td>, '\\n', <td class=\"num_polya_sites\"><a href=\"/apadb/browse/human/full_blood/AAAS/\" target=\"_blank\">1</a></td>, '\\n', <td class=\"num_utr3\">1</td>, '\\n', <td class=\"num_intron\">0</td>, '\\n', <td class=\"num_exon\">0</td>, '\\n', <td class=\"num_utr5\">0</td>, '\\n', <td class=\"num_extension\">0</td>, '\\n', <td class=\"total_reads_gene\">245</td>, '\\n'], ['\\n', <td class=\"gene_symbol\">AACS</td>, '\\n', <td class=\"num_polya_sites\"><a href=\"/apadb/browse/human/full_blood/AACS/\" target=\"_blank\">1</a></td>, '\\n', <td class=\"num_utr3\">1</td>, '\\n', <td class=\"num_intron\">0</td>, '\\n', <td class=\"num_exon\">0</td>, '\\n', <td class=\"num_utr5\">0</td>, '\\n', <td class=\"num_extension\">0</td>, '\\n', <td class=\"total_reads_gene\">64</td>, '\\n'], ['\\n', <td class=\"gene_symbol\">AAED1</td>, '\\n', <td class=\"num_polya_sites\"><a href=\"/apadb/browse/human/full_blood/AAED1/\" target=\"_blank\">2</a></td>, '\\n', <td class=\"num_utr3\">1</td>, '\\n', <td class=\"num_intron\">0</td>, '\\n', <td class=\"num_exon\">0</td>, '\\n', <td class=\"num_utr5\">0</td>, '\\n', <td class=\"num_extension\">1</td>, '\\n', <td class=\"total_reads_gene\">110</td>, '\\n'], ['\\n', <td class=\"gene_symbol\">AAGAB</td>, '\\n', <td class=\"num_polya_sites\"><a href=\"/apadb/browse/human/full_blood/AAGAB/\" target=\"_blank\">2</a></td>, '\\n', <td class=\"num_utr3\">2</td>, '\\n', <td class=\"num_intron\">0</td>, '\\n', <td class=\"num_exon\">0</td>, '\\n', <td class=\"num_utr5\">0</td>, '\\n', <td class=\"num_extension\">0</td>, '\\n', <td class=\"total_reads_gene\">195</td>, '\\n'], ['\\n', <td class=\"gene_symbol\">AAK1</td>, '\\n', <td class=\"num_polya_sites\"><a href=\"/apadb/browse/human/full_blood/AAK1/\" target=\"_blank\">1</a></td>, '\\n', <td class=\"num_utr3\">1</td>, '\\n', <td class=\"num_intron\">0</td>, '\\n', <td class=\"num_exon\">0</td>, '\\n', <td class=\"num_utr5\">0</td>, '\\n', <td class=\"num_extension\">0</td>, '\\n', <td class=\"total_reads_gene\">215</td>, '\\n'], ['\\n', <td class=\"gene_symbol\">AAMDC</td>, '\\n', <td class=\"num_polya_sites\"><a href=\"/apadb/browse/human/full_blood/AAMDC/\" target=\"_blank\">1</a></td>, '\\n', <td class=\"num_utr3\">1</td>, '\\n', <td class=\"num_intron\">0</td>, '\\n', <td class=\"num_exon\">0</td>, '\\n', <td class=\"num_utr5\">0</td>, '\\n', <td class=\"num_extension\">0</td>, '\\n', <td class=\"total_reads_gene\">32</td>, '\\n'], ['\\n', <td class=\"gene_symbol\">AAMP</td>, '\\n', <td class=\"num_polya_sites\"><a href=\"/apadb/browse/human/full_blood/AAMP/\" target=\"_blank\">1</a></td>, '\\n', <td class=\"num_utr3\">1</td>, '\\n', <td class=\"num_intron\">0</td>, '\\n', <td class=\"num_exon\">0</td>, '\\n', <td class=\"num_utr5\">0</td>, '\\n', <td class=\"num_extension\">0</td>, '\\n', <td class=\"total_reads_gene\">721</td>, '\\n'], ['\\n', <td class=\"gene_symbol\">AAR2</td>, '\\n', <td class=\"num_polya_sites\"><a href=\"/apadb/browse/human/full_blood/AAR2/\" target=\"_blank\">1</a></td>, '\\n', <td class=\"num_utr3\">1</td>, '\\n', <td class=\"num_intron\">0</td>, '\\n', <td class=\"num_exon\">0</td>, '\\n', <td class=\"num_utr5\">0</td>, '\\n', <td class=\"num_extension\">0</td>, '\\n', <td class=\"total_reads_gene\">237</td>, '\\n'], ['\\n', <td class=\"gene_symbol\">AARS</td>, '\\n', <td class=\"num_polya_sites\"><a href=\"/apadb/browse/human/full_blood/AARS/\" target=\"_blank\">2</a></td>, '\\n', <td class=\"num_utr3\">1</td>, '\\n', <td class=\"num_intron\">0</td>, '\\n', <td class=\"num_exon\">0</td>, '\\n', <td class=\"num_utr5\">0</td>, '\\n', <td class=\"num_extension\">1</td>, '\\n', <td class=\"total_reads_gene\">187</td>, '\\n'], ['\\n', <td class=\"gene_symbol\">AARS2</td>, '\\n', <td class=\"num_polya_sites\"><a href=\"/apadb/browse/human/full_blood/AARS2/\" target=\"_blank\">4</a></td>, '\\n', <td class=\"num_utr3\">4</td>, '\\n', <td class=\"num_intron\">0</td>, '\\n', <td class=\"num_exon\">0</td>, '\\n', <td class=\"num_utr5\">0</td>, '\\n', <td class=\"num_extension\">0</td>, '\\n', <td class=\"total_reads_gene\">55</td>, '\\n'], ['\\n', <td class=\"gene_symbol\">AARSD1,PTGES3L-AARSD1</td>, '\\n', <td class=\"num_polya_sites\"><a href=\"/apadb/browse/human/full_blood/AARSD1,PTGES3L-AARSD1/\" target=\"_blank\">1</a></td>, '\\n', <td class=\"num_utr3\">1</td>, '\\n', <td class=\"num_intron\">0</td>, '\\n', <td class=\"num_exon\">0</td>, '\\n', <td class=\"num_utr5\">0</td>, '\\n', <td class=\"num_extension\">0</td>, '\\n', <td class=\"total_reads_gene\">74</td>, '\\n'], ['\\n', <td class=\"gene_symbol\">AARS,EXOSC6</td>, '\\n', <td class=\"num_polya_sites\"><a href=\"/apadb/browse/human/full_blood/AARS,EXOSC6/\" target=\"_blank\">2</a></td>, '\\n', <td class=\"num_utr3\">0</td>, '\\n', <td class=\"num_intron\">0</td>, '\\n', <td class=\"num_exon\">0</td>, '\\n', <td class=\"num_utr5\">0</td>, '\\n', <td class=\"num_extension\">2</td>, '\\n', <td class=\"total_reads_gene\">32</td>, '\\n'], ['\\n', <td class=\"gene_symbol\">AASDH</td>, '\\n', <td class=\"num_polya_sites\"><a href=\"/apadb/browse/human/full_blood/AASDH/\" target=\"_blank\">2</a></td>, '\\n', <td class=\"num_utr3\">2</td>, '\\n', <td class=\"num_intron\">0</td>, '\\n', <td class=\"num_exon\">0</td>, '\\n', <td class=\"num_utr5\">0</td>, '\\n', <td class=\"num_extension\">0</td>, '\\n', <td class=\"total_reads_gene\">39</td>, '\\n'], ['\\n', <td class=\"gene_symbol\">AASDHPPT</td>, '\\n', <td class=\"num_polya_sites\"><a href=\"/apadb/browse/human/full_blood/AASDHPPT/\" target=\"_blank\">2</a></td>, '\\n', <td class=\"num_utr3\">2</td>, '\\n', <td class=\"num_intron\">0</td>, '\\n', <td class=\"num_exon\">0</td>, '\\n', <td class=\"num_utr5\">0</td>, '\\n', <td class=\"num_extension\">0</td>, '\\n', <td class=\"total_reads_gene\">147</td>, '\\n'], ['\\n', <td class=\"gene_symbol\">AATF</td>, '\\n', <td class=\"num_polya_sites\"><a href=\"/apadb/browse/human/full_blood/AATF/\" target=\"_blank\">1</a></td>, '\\n', <td class=\"num_utr3\">1</td>, '\\n', <td class=\"num_intron\">0</td>, '\\n', <td class=\"num_exon\">0</td>, '\\n', <td class=\"num_utr5\">0</td>, '\\n', <td class=\"num_extension\">0</td>, '\\n', <td class=\"total_reads_gene\">365</td>, '\\n'], ['\\n', <td class=\"gene_symbol\">AATK</td>, '\\n', <td class=\"num_polya_sites\"><a href=\"/apadb/browse/human/full_blood/AATK/\" target=\"_blank\">1</a></td>, '\\n', <td class=\"num_utr3\">1</td>, '\\n', <td class=\"num_intron\">0</td>, '\\n', <td class=\"num_exon\">0</td>, '\\n', <td class=\"num_utr5\">0</td>, '\\n', <td class=\"num_extension\">0</td>, '\\n', <td class=\"total_reads_gene\">478</td>, '\\n'], ['\\n', <td class=\"gene_symbol\">ABAT</td>, '\\n', <td class=\"num_polya_sites\"><a href=\"/apadb/browse/human/full_blood/ABAT/\" target=\"_blank\">2</a></td>, '\\n', <td class=\"num_utr3\">2</td>, '\\n', <td class=\"num_intron\">0</td>, '\\n', <td class=\"num_exon\">0</td>, '\\n', <td class=\"num_utr5\">0</td>, '\\n', <td class=\"num_extension\">0</td>, '\\n', <td class=\"total_reads_gene\">172</td>, '\\n'], ['\\n', <td class=\"gene_symbol\">ABCA1</td>, '\\n', <td class=\"num_polya_sites\"><a href=\"/apadb/browse/human/full_blood/ABCA1/\" target=\"_blank\">2</a></td>, '\\n', <td class=\"num_utr3\">2</td>, '\\n', <td class=\"num_intron\">0</td>, '\\n', <td class=\"num_exon\">0</td>, '\\n', <td class=\"num_utr5\">0</td>, '\\n', <td class=\"num_extension\">0</td>, '\\n', <td class=\"total_reads_gene\">55</td>, '\\n'], ['\\n', <td class=\"gene_symbol\">ABCA11P</td>, '\\n', <td class=\"num_polya_sites\"><a href=\"/apadb/browse/human/full_blood/ABCA11P/\" target=\"_blank\">1</a></td>, '\\n', <td class=\"num_utr3\">0</td>, '\\n', <td class=\"num_intron\">1</td>, '\\n', <td class=\"num_exon\">0</td>, '\\n', <td class=\"num_utr5\">0</td>, '\\n', <td class=\"num_extension\">0</td>, '\\n', <td class=\"total_reads_gene\">5</td>, '\\n'], ['\\n', <td class=\"gene_symbol\">ABCA2</td>, '\\n', <td class=\"num_polya_sites\"><a href=\"/apadb/browse/human/full_blood/ABCA2/\" target=\"_blank\">1</a></td>, '\\n', <td class=\"num_utr3\">1</td>, '\\n', <td class=\"num_intron\">0</td>, '\\n', <td class=\"num_exon\">0</td>, '\\n', <td class=\"num_utr5\">0</td>, '\\n', <td class=\"num_extension\">0</td>, '\\n', <td class=\"total_reads_gene\">234</td>, '\\n'], ['\\n', <td class=\"gene_symbol\">ABCA3</td>, '\\n', <td class=\"num_polya_sites\"><a href=\"/apadb/browse/human/full_blood/ABCA3/\" target=\"_blank\">2</a></td>, '\\n', <td class=\"num_utr3\">1</td>, '\\n', <td class=\"num_intron\">1</td>, '\\n', <td class=\"num_exon\">0</td>, '\\n', <td class=\"num_utr5\">0</td>, '\\n', <td class=\"num_extension\">0</td>, '\\n', <td class=\"total_reads_gene\">23</td>, '\\n'], ['\\n', <td class=\"gene_symbol\">ABCA5</td>, '\\n', <td class=\"num_polya_sites\"><a href=\"/apadb/browse/human/full_blood/ABCA5/\" target=\"_blank\">2</a></td>, '\\n', <td class=\"num_utr3\">2</td>, '\\n', <td class=\"num_intron\">0</td>, '\\n', <td class=\"num_exon\">0</td>, '\\n', <td class=\"num_utr5\">0</td>, '\\n', <td class=\"num_extension\">0</td>, '\\n', <td class=\"total_reads_gene\">44</td>, '\\n'], ['\\n', <td class=\"gene_symbol\">ABCA7</td>, '\\n', <td class=\"num_polya_sites\"><a href=\"/apadb/browse/human/full_blood/ABCA7/\" target=\"_blank\">1</a></td>, '\\n', <td class=\"num_utr3\">1</td>, '\\n', <td class=\"num_intron\">0</td>, '\\n', <td class=\"num_exon\">0</td>, '\\n', <td class=\"num_utr5\">0</td>, '\\n', <td class=\"num_extension\">0</td>, '\\n', <td class=\"total_reads_gene\">578</td>, '\\n'], ['\\n', <td class=\"gene_symbol\">ABCB1</td>, '\\n', <td class=\"num_polya_sites\"><a href=\"/apadb/browse/human/full_blood/ABCB1/\" target=\"_blank\">1</a></td>, '\\n', <td class=\"num_utr3\">1</td>, '\\n', <td class=\"num_intron\">0</td>, '\\n', <td class=\"num_exon\">0</td>, '\\n', <td class=\"num_utr5\">0</td>, '\\n', <td class=\"num_extension\">0</td>, '\\n', <td class=\"total_reads_gene\">17</td>, '\\n'], ['\\n', <td class=\"gene_symbol\">ABCB10</td>, '\\n', <td class=\"num_polya_sites\"><a href=\"/apadb/browse/human/full_blood/ABCB10/\" target=\"_blank\">2</a></td>, '\\n', <td class=\"num_utr3\">2</td>, '\\n', <td class=\"num_intron\">0</td>, '\\n', <td class=\"num_exon\">0</td>, '\\n', <td class=\"num_utr5\">0</td>, '\\n', <td class=\"num_extension\">0</td>, '\\n', <td class=\"total_reads_gene\">104</td>, '\\n'], ['\\n', <td class=\"gene_symbol\">ABCB6</td>, '\\n', <td class=\"num_polya_sites\"><a href=\"/apadb/browse/human/full_blood/ABCB6/\" target=\"_blank\">1</a></td>, '\\n', <td class=\"num_utr3\">1</td>, '\\n', <td class=\"num_intron\">0</td>, '\\n', <td class=\"num_exon\">0</td>, '\\n', <td class=\"num_utr5\">0</td>, '\\n', <td class=\"num_extension\">0</td>, '\\n', <td class=\"total_reads_gene\">29</td>, '\\n'], ['\\n', <td class=\"gene_symbol\">ABCB7</td>, '\\n', <td class=\"num_polya_sites\"><a href=\"/apadb/browse/human/full_blood/ABCB7/\" target=\"_blank\">3</a></td>, '\\n', <td class=\"num_utr3\">1</td>, '\\n', <td class=\"num_intron\">0</td>, '\\n', <td class=\"num_exon\">0</td>, '\\n', <td class=\"num_utr5\">0</td>, '\\n', <td class=\"num_extension\">2</td>, '\\n', <td class=\"total_reads_gene\">100</td>, '\\n'], ['\\n', <td class=\"gene_symbol\">ABCB8</td>, '\\n', <td class=\"num_polya_sites\"><a href=\"/apadb/browse/human/full_blood/ABCB8/\" target=\"_blank\">5</a></td>, '\\n', <td class=\"num_utr3\">2</td>, '\\n', <td class=\"num_intron\">3</td>, '\\n', <td class=\"num_exon\">0</td>, '\\n', <td class=\"num_utr5\">0</td>, '\\n', <td class=\"num_extension\">0</td>, '\\n', <td class=\"total_reads_gene\">121</td>, '\\n']]\n"
     ]
    }
   ],
   "source": [
    "print(rows_cont)"
   ]
  },
  {
   "cell_type": "code",
   "execution_count": 22,
   "metadata": {},
   "outputs": [
    {
     "name": "stdout",
     "output_type": "stream",
     "text": [
      "['\\n', <th class=\"asc gene_symbol orderable\"><a href=\"?sort=-gene_symbol&amp;page=1\">Gene_Symbol</a></th>, '\\n', <th class=\"num_polya_sites orderable\"><a href=\"?sort=num_polya_sites&amp;page=1\">PolyA Sites</a></th>, '\\n', <th class=\"num_utr3 orderable\"><a href=\"?sort=num_utr3&amp;page=1\">Sites In UTR3</a></th>, '\\n', <th class=\"num_intron orderable\"><a href=\"?sort=num_intron&amp;page=1\">Sites In Intron</a></th>, '\\n', <th class=\"num_exon orderable\"><a href=\"?sort=num_exon&amp;page=1\">Sites In Exon</a></th>, '\\n', <th class=\"num_utr5 orderable\"><a href=\"?sort=num_utr5&amp;page=1\">Sites In UTR5</a></th>, '\\n', <th class=\"num_extension orderable\"><a href=\"?sort=num_extension&amp;page=1\">Sites In Extension</a></th>, '\\n', <th class=\"orderable total_reads_gene\"><a href=\"?sort=total_reads_gene&amp;page=1\">Total_Reads_Gene</a></th>, '\\n']\n"
     ]
    }
   ],
   "source": [
    "print(rows_cont[1])"
   ]
  },
  {
   "cell_type": "code",
   "execution_count": 27,
   "metadata": {},
   "outputs": [
    {
     "name": "stdout",
     "output_type": "stream",
     "text": [
      "<th class=\"asc gene_symbol orderable\"><a href=\"?sort=-gene_symbol&amp;page=1\">Gene_Symbol</a></th>\n"
     ]
    }
   ],
   "source": [
    "print(rows_cont[1][1])"
   ]
  },
  {
   "cell_type": "code",
   "execution_count": 29,
   "metadata": {},
   "outputs": [],
   "source": [
    "for i in range(1, len(rows_cont)):\n",
    "    for j in range(rows_cont[i].count('\\n')):\n",
    "        rows_cont[i].remove('\\n')"
   ]
  },
  {
   "cell_type": "code",
   "execution_count": 30,
   "metadata": {},
   "outputs": [
    {
     "name": "stdout",
     "output_type": "stream",
     "text": [
      "[<th class=\"asc gene_symbol orderable\"><a href=\"?sort=-gene_symbol&amp;page=1\">Gene_Symbol</a></th>, <th class=\"num_polya_sites orderable\"><a href=\"?sort=num_polya_sites&amp;page=1\">PolyA Sites</a></th>, <th class=\"num_utr3 orderable\"><a href=\"?sort=num_utr3&amp;page=1\">Sites In UTR3</a></th>, <th class=\"num_intron orderable\"><a href=\"?sort=num_intron&amp;page=1\">Sites In Intron</a></th>, <th class=\"num_exon orderable\"><a href=\"?sort=num_exon&amp;page=1\">Sites In Exon</a></th>, <th class=\"num_utr5 orderable\"><a href=\"?sort=num_utr5&amp;page=1\">Sites In UTR5</a></th>, <th class=\"num_extension orderable\"><a href=\"?sort=num_extension&amp;page=1\">Sites In Extension</a></th>, <th class=\"orderable total_reads_gene\"><a href=\"?sort=total_reads_gene&amp;page=1\">Total_Reads_Gene</a></th>]\n"
     ]
    }
   ],
   "source": [
    "print(rows_cont[1])"
   ]
  },
  {
   "cell_type": "code",
   "execution_count": 52,
   "metadata": {},
   "outputs": [
    {
     "name": "stdout",
     "output_type": "stream",
     "text": [
      "['ABCB8', '5', '2', '3', '0', '0', '0', '121']\n"
     ]
    }
   ],
   "source": [
    "print(rows_cont[len(rows_cont)-1])"
   ]
  },
  {
   "cell_type": "code",
   "execution_count": 57,
   "metadata": {},
   "outputs": [],
   "source": [
    "row_strings = rows_cont.copy()"
   ]
  },
  {
   "cell_type": "code",
   "execution_count": 64,
   "metadata": {
    "scrolled": true
   },
   "outputs": [
    {
     "name": "stdout",
     "output_type": "stream",
     "text": [
      "[['A1BG', '1', '1', '0', '0', '0', '0', '145'], ['A1BG-AS1', '2', '0', '0', '0', '0', '2', '49'], ['AAAS', '1', '1', '0', '0', '0', '0', '245'], ['AACS', '1', '1', '0', '0', '0', '0', '64'], ['AAED1', '2', '1', '0', '0', '0', '1', '110'], ['AAGAB', '2', '2', '0', '0', '0', '0', '195'], ['AAK1', '1', '1', '0', '0', '0', '0', '215'], ['AAMDC', '1', '1', '0', '0', '0', '0', '32'], ['AAMP', '1', '1', '0', '0', '0', '0', '721'], ['AAR2', '1', '1', '0', '0', '0', '0', '237'], ['AARS', '2', '1', '0', '0', '0', '1', '187'], ['AARS2', '4', '4', '0', '0', '0', '0', '55'], ['AARSD1,PTGES3L-AARSD1', '1', '1', '0', '0', '0', '0', '74'], ['AARS,EXOSC6', '2', '0', '0', '0', '0', '2', '32'], ['AASDH', '2', '2', '0', '0', '0', '0', '39'], ['AASDHPPT', '2', '2', '0', '0', '0', '0', '147'], ['AATF', '1', '1', '0', '0', '0', '0', '365'], ['AATK', '1', '1', '0', '0', '0', '0', '478'], ['ABAT', '2', '2', '0', '0', '0', '0', '172'], ['ABCA1', '2', '2', '0', '0', '0', '0', '55'], ['ABCA11P', '1', '0', '1', '0', '0', '0', '5'], ['ABCA2', '1', '1', '0', '0', '0', '0', '234'], ['ABCA3', '2', '1', '1', '0', '0', '0', '23'], ['ABCA5', '2', '2', '0', '0', '0', '0', '44'], ['ABCA7', '1', '1', '0', '0', '0', '0', '578'], ['ABCB1', '1', '1', '0', '0', '0', '0', '17'], ['ABCB10', '2', '2', '0', '0', '0', '0', '104'], ['ABCB6', '1', '1', '0', '0', '0', '0', '29'], ['ABCB7', '3', '1', '0', '0', '0', '2', '100'], ['ABCB8', '5', '2', '3', '0', '0', '0', '121']]\n"
     ]
    }
   ],
   "source": [
    "print(row_strings)"
   ]
  },
  {
   "cell_type": "code",
   "execution_count": 59,
   "metadata": {},
   "outputs": [],
   "source": [
    "del row_strings[0]"
   ]
  },
  {
   "cell_type": "code",
   "execution_count": 60,
   "metadata": {},
   "outputs": [
    {
     "name": "stdout",
     "output_type": "stream",
     "text": [
      "Gene_Symbol\n"
     ]
    }
   ],
   "source": [
    "print(row_strings[0][0].string)"
   ]
  },
  {
   "cell_type": "code",
   "execution_count": 61,
   "metadata": {},
   "outputs": [],
   "source": [
    "for i in range(len(row_strings)):\n",
    "    for j in range(len(row_strings[i])):\n",
    "        row_strings[i][j] = row_strings[i][j].string"
   ]
  },
  {
   "cell_type": "code",
   "execution_count": 62,
   "metadata": {},
   "outputs": [],
   "source": [
    "dict_headers = row_strings[0]"
   ]
  },
  {
   "cell_type": "code",
   "execution_count": 65,
   "metadata": {},
   "outputs": [
    {
     "name": "stdout",
     "output_type": "stream",
     "text": [
      "['Gene_Symbol', 'PolyA Sites', 'Sites In UTR3', 'Sites In Intron', 'Sites In Exon', 'Sites In UTR5', 'Sites In Extension', 'Total_Reads_Gene']\n"
     ]
    }
   ],
   "source": [
    "print(dict_headers)"
   ]
  },
  {
   "cell_type": "code",
   "execution_count": 63,
   "metadata": {},
   "outputs": [],
   "source": [
    "row_strings = row_strings[1:len(row_strings)]"
   ]
  },
  {
   "cell_type": "code",
   "execution_count": 75,
   "metadata": {},
   "outputs": [],
   "source": [
    "apadb_df = pd.DataFrame(row_strings, columns=dict_headers)"
   ]
  },
  {
   "cell_type": "code",
   "execution_count": 73,
   "metadata": {},
   "outputs": [],
   "source": [
    "for i in range(len(row_strings)):\n",
    "    apadb_df = apadb_df.append(row_strings[i])"
   ]
  },
  {
   "cell_type": "code",
   "execution_count": 76,
   "metadata": {},
   "outputs": [
    {
     "name": "stdout",
     "output_type": "stream",
     "text": [
      "              Gene_Symbol PolyA Sites Sites In UTR3 Sites In Intron  \\\n",
      "0                    A1BG           1             1               0   \n",
      "1                A1BG-AS1           2             0               0   \n",
      "2                    AAAS           1             1               0   \n",
      "3                    AACS           1             1               0   \n",
      "4                   AAED1           2             1               0   \n",
      "5                   AAGAB           2             2               0   \n",
      "6                    AAK1           1             1               0   \n",
      "7                   AAMDC           1             1               0   \n",
      "8                    AAMP           1             1               0   \n",
      "9                    AAR2           1             1               0   \n",
      "10                   AARS           2             1               0   \n",
      "11                  AARS2           4             4               0   \n",
      "12  AARSD1,PTGES3L-AARSD1           1             1               0   \n",
      "13            AARS,EXOSC6           2             0               0   \n",
      "14                  AASDH           2             2               0   \n",
      "15               AASDHPPT           2             2               0   \n",
      "16                   AATF           1             1               0   \n",
      "17                   AATK           1             1               0   \n",
      "18                   ABAT           2             2               0   \n",
      "19                  ABCA1           2             2               0   \n",
      "20                ABCA11P           1             0               1   \n",
      "21                  ABCA2           1             1               0   \n",
      "22                  ABCA3           2             1               1   \n",
      "23                  ABCA5           2             2               0   \n",
      "24                  ABCA7           1             1               0   \n",
      "25                  ABCB1           1             1               0   \n",
      "26                 ABCB10           2             2               0   \n",
      "27                  ABCB6           1             1               0   \n",
      "28                  ABCB7           3             1               0   \n",
      "29                  ABCB8           5             2               3   \n",
      "\n",
      "   Sites In Exon Sites In UTR5 Sites In Extension Total_Reads_Gene  \n",
      "0              0             0                  0              145  \n",
      "1              0             0                  2               49  \n",
      "2              0             0                  0              245  \n",
      "3              0             0                  0               64  \n",
      "4              0             0                  1              110  \n",
      "5              0             0                  0              195  \n",
      "6              0             0                  0              215  \n",
      "7              0             0                  0               32  \n",
      "8              0             0                  0              721  \n",
      "9              0             0                  0              237  \n",
      "10             0             0                  1              187  \n",
      "11             0             0                  0               55  \n",
      "12             0             0                  0               74  \n",
      "13             0             0                  2               32  \n",
      "14             0             0                  0               39  \n",
      "15             0             0                  0              147  \n",
      "16             0             0                  0              365  \n",
      "17             0             0                  0              478  \n",
      "18             0             0                  0              172  \n",
      "19             0             0                  0               55  \n",
      "20             0             0                  0                5  \n",
      "21             0             0                  0              234  \n",
      "22             0             0                  0               23  \n",
      "23             0             0                  0               44  \n",
      "24             0             0                  0              578  \n",
      "25             0             0                  0               17  \n",
      "26             0             0                  0              104  \n",
      "27             0             0                  0               29  \n",
      "28             0             0                  2              100  \n",
      "29             0             0                  0              121  \n"
     ]
    }
   ],
   "source": [
    "print(apadb_df)"
   ]
  },
  {
   "cell_type": "markdown",
   "metadata": {},
   "source": [
    "The following code segments will try to retrieve the total pages from the apadb website."
   ]
  },
  {
   "cell_type": "code",
   "execution_count": 77,
   "metadata": {},
   "outputs": [],
   "source": [
    "page_list = soup.findAll(\"li\", {'class':'cardinality'})"
   ]
  },
  {
   "cell_type": "code",
   "execution_count": 78,
   "metadata": {},
   "outputs": [
    {
     "name": "stdout",
     "output_type": "stream",
     "text": [
      "[<li class=\"cardinality\">\n",
      "                Page 1 of 424\n",
      "            </li>]\n"
     ]
    }
   ],
   "source": [
    "print(page_list)"
   ]
  },
  {
   "cell_type": "code",
   "execution_count": 80,
   "metadata": {},
   "outputs": [
    {
     "name": "stdout",
     "output_type": "stream",
     "text": [
      "\n",
      "                Page 1 of 424\n",
      "            \n"
     ]
    }
   ],
   "source": [
    "print(page_list[0].string)"
   ]
  },
  {
   "cell_type": "code",
   "execution_count": 81,
   "metadata": {},
   "outputs": [],
   "source": [
    "page_list = page_list[0].string"
   ]
  },
  {
   "cell_type": "code",
   "execution_count": 82,
   "metadata": {},
   "outputs": [
    {
     "name": "stdout",
     "output_type": "stream",
     "text": [
      "\n",
      "                Page 1 of 424\n",
      "            \n"
     ]
    }
   ],
   "source": [
    "print(page_list)"
   ]
  },
  {
   "cell_type": "code",
   "execution_count": 84,
   "metadata": {},
   "outputs": [],
   "source": [
    "page_list = page_list.lstrip()"
   ]
  },
  {
   "cell_type": "code",
   "execution_count": 86,
   "metadata": {},
   "outputs": [],
   "source": [
    "page_list = page_list.strip()"
   ]
  },
  {
   "cell_type": "code",
   "execution_count": 90,
   "metadata": {},
   "outputs": [],
   "source": [
    "page_list = re.sub('Page [0-9]{1,3} of ', '', page_list)"
   ]
  },
  {
   "cell_type": "code",
   "execution_count": 91,
   "metadata": {},
   "outputs": [],
   "source": [
    "page_list = int(page_list)"
   ]
  },
  {
   "cell_type": "code",
   "execution_count": 92,
   "metadata": {},
   "outputs": [
    {
     "name": "stdout",
     "output_type": "stream",
     "text": [
      "424\n"
     ]
    }
   ],
   "source": [
    "print(page_list)"
   ]
  },
  {
   "cell_type": "code",
   "execution_count": null,
   "metadata": {},
   "outputs": [],
   "source": [
    "def get_pages(url):\n",
    "    html = urlopen(url)\n",
    "    soup = BeautifulSoup(html, 'html.parser')\n",
    "    \n",
    "    page_list = soup.findAll(\"li\", {'class':'cardinality'})\n",
    "    \n",
    "    page_list = page_list[0].string\n",
    "    page_list = page_list.strip()\n",
    "    page_list = re.sub('Page [0-9]{1,3} of ', '', page_list)\n",
    "    \n",
    "    return int(page_list)\n",
    "    "
   ]
  }
 ],
 "metadata": {
  "kernelspec": {
   "display_name": "Python 3",
   "language": "python",
   "name": "python3"
  },
  "language_info": {
   "codemirror_mode": {
    "name": "ipython",
    "version": 3
   },
   "file_extension": ".py",
   "mimetype": "text/x-python",
   "name": "python",
   "nbconvert_exporter": "python",
   "pygments_lexer": "ipython3",
   "version": "3.6.8"
  }
 },
 "nbformat": 4,
 "nbformat_minor": 2
}
