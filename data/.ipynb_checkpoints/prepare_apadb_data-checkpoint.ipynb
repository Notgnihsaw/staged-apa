{
 "cells": [
  {
   "cell_type": "code",
   "execution_count": 45,
   "metadata": {},
   "outputs": [],
   "source": [
    "import pickle\n",
    "import pandas as pd\n",
    "import tqdm"
   ]
  },
  {
   "cell_type": "code",
   "execution_count": 2,
   "metadata": {},
   "outputs": [],
   "source": [
    "tissue_dict = pickle.load(open('../../staged-apa_data/tissue_dict.pickle', 'rb'))\n",
    "\n",
    "tissues = ['full_blood', 'kidney', 'pancreas', 'monocytes', 'all', 'pdac', 'prcc', 'hlf']"
   ]
  },
  {
   "cell_type": "code",
   "execution_count": 3,
   "metadata": {},
   "outputs": [],
   "source": [
    "for tissue in tissues:\n",
    "    tissue_dict[tissue]['sites'] = tissue_dict[tissue]['PolyA Sites']"
   ]
  },
  {
   "cell_type": "code",
   "execution_count": 4,
   "metadata": {},
   "outputs": [],
   "source": [
    "full_blood_df = tissue_dict['full_blood']\n",
    "full_blood_df['tissue'] = 'full_blood'\n",
    "kidney_df = tissue_dict['kidney']\n",
    "kidney_df['tissue'] = 'kidney'\n",
    "pancreas_df = tissue_dict['pancreas']\n",
    "pancreas_df['tissue'] = 'pancreas'\n",
    "monocytes_df = tissue_dict['monocytes']\n",
    "monocytes_df['tissue'] = 'monocytes'\n",
    "all_df = tissue_dict['all']\n",
    "all_df['tissue'] = 'all'\n",
    "pdac_df = tissue_dict['pdac']\n",
    "pdac_df['tissue'] = 'pdac'\n",
    "prcc_df = tissue_dict['prcc']\n",
    "prcc_df['tissue'] = 'prcc'\n",
    "hlf_df = tissue_dict['hlf']\n",
    "hlf_df['tissue'] = 'hlf'"
   ]
  },
  {
   "cell_type": "code",
   "execution_count": 5,
   "metadata": {},
   "outputs": [],
   "source": [
    "complete_df = pd.DataFrame()\n",
    "complete_df = complete_df.append(full_blood_df)\n",
    "complete_df = complete_df.append(kidney_df)\n",
    "complete_df = complete_df.append(pancreas_df)\n",
    "complete_df = complete_df.append(monocytes_df)\n",
    "complete_df = complete_df.append(all_df)\n",
    "complete_df = complete_df.append(pdac_df)\n",
    "complete_df = complete_df.append(prcc_df)\n",
    "complete_df = complete_df.append(hlf_df)"
   ]
  },
  {
   "cell_type": "code",
   "execution_count": 6,
   "metadata": {},
   "outputs": [
    {
     "name": "stdout",
     "output_type": "stream",
     "text": [
      "              Gene_Symbol PolyA Sites Sites In UTR3 Sites In Intron  \\\n",
      "0                    A1BG           1             1               0   \n",
      "1                A1BG-AS1           2             0               0   \n",
      "2                    AAAS           1             1               0   \n",
      "3                    AACS           1             1               0   \n",
      "4                   AAED1           2             1               0   \n",
      "5                   AAGAB           2             2               0   \n",
      "6                    AAK1           1             1               0   \n",
      "7                   AAMDC           1             1               0   \n",
      "8                    AAMP           1             1               0   \n",
      "9                    AAR2           1             1               0   \n",
      "10                   AARS           2             1               0   \n",
      "11                  AARS2           4             4               0   \n",
      "12  AARSD1,PTGES3L-AARSD1           1             1               0   \n",
      "13            AARS,EXOSC6           2             0               0   \n",
      "14                  AASDH           2             2               0   \n",
      "15               AASDHPPT           2             2               0   \n",
      "16                   AATF           1             1               0   \n",
      "17                   AATK           1             1               0   \n",
      "18                   ABAT           2             2               0   \n",
      "19                  ABCA1           2             2               0   \n",
      "20                ABCA11P           1             0               1   \n",
      "21                  ABCA2           1             1               0   \n",
      "22                  ABCA3           2             1               1   \n",
      "23                  ABCA5           2             2               0   \n",
      "24                  ABCA7           1             1               0   \n",
      "25                  ABCB1           1             1               0   \n",
      "26                 ABCB10           2             2               0   \n",
      "27                  ABCB6           1             1               0   \n",
      "28                  ABCB7           3             1               0   \n",
      "29                  ABCB8           5             2               3   \n",
      "..                    ...         ...           ...             ...   \n",
      "0               ZSCAN12P1           2             0               0   \n",
      "1                 ZSCAN16           1             1               0   \n",
      "2             ZSCAN16-AS1           3             3               0   \n",
      "3                 ZSCAN18           1             1               0   \n",
      "4                  ZSCAN2           3             3               0   \n",
      "5                 ZSCAN20           2             2               0   \n",
      "6                 ZSCAN21           1             1               0   \n",
      "7                 ZSCAN22           2             2               0   \n",
      "8                 ZSCAN25           3             3               0   \n",
      "9                 ZSCAN26           3             3               0   \n",
      "10                ZSCAN29           2             2               0   \n",
      "11                ZSCAN30           5             1               4   \n",
      "12                ZSCAN31           2             1               0   \n",
      "13                ZSCAN32           2             1               1   \n",
      "14                ZSCAN5A           2             1               0   \n",
      "15                 ZSCAN9           3             1               2   \n",
      "16                 ZSWIM1           1             1               0   \n",
      "17                 ZSWIM3           1             1               0   \n",
      "18                 ZSWIM6           3             2               1   \n",
      "19                 ZSWIM7           6             2               2   \n",
      "20                 ZSWIM8           1             1               0   \n",
      "21             ZSWIM8-AS1           1             1               0   \n",
      "22                  ZUFSP           1             1               0   \n",
      "23                   ZW10           2             2               0   \n",
      "24                 ZWILCH           5             3               1   \n",
      "25                  ZWINT           5             3               0   \n",
      "26                   ZXDA           1             1               0   \n",
      "27                   ZXDB           2             1               0   \n",
      "28                   ZXDC           8             3               5   \n",
      "29                 ZYG11A           2             1               1   \n",
      "\n",
      "   Sites In Exon Sites In UTR5 Sites In Extension Total_Reads_Gene sites  \\\n",
      "0              0             0                  0              145     1   \n",
      "1              0             0                  2               49     2   \n",
      "2              0             0                  0              245     1   \n",
      "3              0             0                  0               64     1   \n",
      "4              0             0                  1              110     2   \n",
      "5              0             0                  0              195     2   \n",
      "6              0             0                  0              215     1   \n",
      "7              0             0                  0               32     1   \n",
      "8              0             0                  0              721     1   \n",
      "9              0             0                  0              237     1   \n",
      "10             0             0                  1              187     2   \n",
      "11             0             0                  0               55     4   \n",
      "12             0             0                  0               74     1   \n",
      "13             0             0                  2               32     2   \n",
      "14             0             0                  0               39     2   \n",
      "15             0             0                  0              147     2   \n",
      "16             0             0                  0              365     1   \n",
      "17             0             0                  0              478     1   \n",
      "18             0             0                  0              172     2   \n",
      "19             0             0                  0               55     2   \n",
      "20             0             0                  0                5     1   \n",
      "21             0             0                  0              234     1   \n",
      "22             0             0                  0               23     2   \n",
      "23             0             0                  0               44     2   \n",
      "24             0             0                  0              578     1   \n",
      "25             0             0                  0               17     1   \n",
      "26             0             0                  0              104     2   \n",
      "27             0             0                  0               29     1   \n",
      "28             0             0                  2              100     3   \n",
      "29             0             0                  0              121     5   \n",
      "..           ...           ...                ...              ...   ...   \n",
      "0              0             1                  1               19     2   \n",
      "1              0             0                  0               62     1   \n",
      "2              0             0                  0              163     3   \n",
      "3              0             0                  0              585     1   \n",
      "4              0             0                  0               48     3   \n",
      "5              0             0                  0               24     2   \n",
      "6              0             0                  0               51     1   \n",
      "7              0             0                  0               71     2   \n",
      "8              0             0                  0               46     3   \n",
      "9              0             0                  0              105     3   \n",
      "10             0             0                  0              130     2   \n",
      "11             0             0                  0               85     5   \n",
      "12             0             0                  1               65     2   \n",
      "13             0             0                  0              156     2   \n",
      "14             0             0                  1               87     2   \n",
      "15             0             0                  0              111     3   \n",
      "16             0             0                  0              195     1   \n",
      "17             0             0                  0               54     1   \n",
      "18             0             0                  0              232     3   \n",
      "19             0             0                  2              649     6   \n",
      "20             0             0                  0              646     1   \n",
      "21             0             0                  0               26     1   \n",
      "22             0             0                  0              187     1   \n",
      "23             0             0                  0              315     2   \n",
      "24             0             0                  1               69     5   \n",
      "25             0             0                  2             1088     5   \n",
      "26             0             0                  0                6     1   \n",
      "27             0             0                  1              203     2   \n",
      "28             0             0                  0              289     8   \n",
      "29             0             0                  0               98     2   \n",
      "\n",
      "        tissue  \n",
      "0   full_blood  \n",
      "1   full_blood  \n",
      "2   full_blood  \n",
      "3   full_blood  \n",
      "4   full_blood  \n",
      "5   full_blood  \n",
      "6   full_blood  \n",
      "7   full_blood  \n",
      "8   full_blood  \n",
      "9   full_blood  \n",
      "10  full_blood  \n",
      "11  full_blood  \n",
      "12  full_blood  \n",
      "13  full_blood  \n",
      "14  full_blood  \n",
      "15  full_blood  \n",
      "16  full_blood  \n",
      "17  full_blood  \n",
      "18  full_blood  \n",
      "19  full_blood  \n",
      "20  full_blood  \n",
      "21  full_blood  \n",
      "22  full_blood  \n",
      "23  full_blood  \n",
      "24  full_blood  \n",
      "25  full_blood  \n",
      "26  full_blood  \n",
      "27  full_blood  \n",
      "28  full_blood  \n",
      "29  full_blood  \n",
      "..         ...  \n",
      "0          hlf  \n",
      "1          hlf  \n",
      "2          hlf  \n",
      "3          hlf  \n",
      "4          hlf  \n",
      "5          hlf  \n",
      "6          hlf  \n",
      "7          hlf  \n",
      "8          hlf  \n",
      "9          hlf  \n",
      "10         hlf  \n",
      "11         hlf  \n",
      "12         hlf  \n",
      "13         hlf  \n",
      "14         hlf  \n",
      "15         hlf  \n",
      "16         hlf  \n",
      "17         hlf  \n",
      "18         hlf  \n",
      "19         hlf  \n",
      "20         hlf  \n",
      "21         hlf  \n",
      "22         hlf  \n",
      "23         hlf  \n",
      "24         hlf  \n",
      "25         hlf  \n",
      "26         hlf  \n",
      "27         hlf  \n",
      "28         hlf  \n",
      "29         hlf  \n",
      "\n",
      "[73830 rows x 10 columns]\n"
     ]
    }
   ],
   "source": [
    "print(complete_df)"
   ]
  },
  {
   "cell_type": "code",
   "execution_count": 49,
   "metadata": {},
   "outputs": [
    {
     "name": "stdout",
     "output_type": "stream",
     "text": [
      "1\n"
     ]
    }
   ],
   "source": [
    "print((int(complete_df.pa_sites[2])))"
   ]
  },
  {
   "cell_type": "code",
   "execution_count": 32,
   "metadata": {},
   "outputs": [],
   "source": [
    "complete_df['pa_sites'] = 0"
   ]
  },
  {
   "cell_type": "code",
   "execution_count": 40,
   "metadata": {},
   "outputs": [
    {
     "data": {
      "text/plain": [
       "(73830, 12)"
      ]
     },
     "execution_count": 40,
     "metadata": {},
     "output_type": "execute_result"
    }
   ],
   "source": [
    "complete_df.shape"
   ]
  },
  {
   "cell_type": "code",
   "execution_count": 54,
   "metadata": {},
   "outputs": [],
   "source": [
    "complete_df.sites = complete_df.sites.astype('int64')"
   ]
  },
  {
   "cell_type": "code",
   "execution_count": 21,
   "metadata": {},
   "outputs": [],
   "source": [
    "complete_df = complete_df.reset_index()"
   ]
  },
  {
   "cell_type": "code",
   "execution_count": 57,
   "metadata": {},
   "outputs": [],
   "source": [
    "complete_df = complete_df.loc[lambda df: df.sites > 2, :]"
   ]
  },
  {
   "cell_type": "code",
   "execution_count": 65,
   "metadata": {},
   "outputs": [
    {
     "name": "stdout",
     "output_type": "stream",
     "text": [
      "       Gene_Symbol Sites In UTR3 Sites In Intron Sites In Exon Sites In UTR5  \\\n",
      "0            AARS2             4               0             0             0   \n",
      "1            ABCB7             1               0             0             0   \n",
      "2            ABCB8             2               3             0             0   \n",
      "3            ABCC3             3               2             0             0   \n",
      "4            ABCC5             3               0             0             0   \n",
      "5            ABCD2             2               0             0             0   \n",
      "6            ABCD3             2               1             0             0   \n",
      "7            ABCE1             5               0             0             0   \n",
      "8            ABCF1             3               0             3             0   \n",
      "9            ABCF2             4               0             0             0   \n",
      "10           ABCG1             2               0             0             0   \n",
      "11          ABHD10             3               0             0             0   \n",
      "12          ABHD13             6               0             0             0   \n",
      "13          ABHD15             2               0             0             0   \n",
      "14         ABHD17B             3               0             0             0   \n",
      "15           ABHD2             7               1             0             0   \n",
      "16           ABHD3             1               9             0             0   \n",
      "17           ABHD4             1               0             0             0   \n",
      "18           ABHD5            11               0             0             0   \n",
      "19            ABI1             9               0             0             0   \n",
      "20            ABI2             3               0             0             0   \n",
      "21            ABI3             3               0             0             0   \n",
      "22            ABL2             3               0             0             0   \n",
      "23          ABLIM1             4               0             0             0   \n",
      "24             ABR             1               2             0             0   \n",
      "25            ABT1             2               0             0             0   \n",
      "26           ACACA             2               1             0             0   \n",
      "27           ACAD8             2               2             0             0   \n",
      "28           ACAD9             2               0             0             0   \n",
      "29           ACADM             4               0             0             0   \n",
      "...            ...           ...             ...           ...           ...   \n",
      "15494        ZNF83             2              11             2             0   \n",
      "15495       ZNF830             4               0             0             0   \n",
      "15496       ZNF839             3               0             0             0   \n",
      "15497        ZNF84             2               3             0             0   \n",
      "15498       ZNF841             1               0             0             0   \n",
      "15499       ZNF845             2               0             0             0   \n",
      "15500       ZNF883             0               1             1             1   \n",
      "15501        ZNF90             1               2             0             0   \n",
      "15502        ZNF93             1               1             2             0   \n",
      "15503        ZNFX1             1               1             0             0   \n",
      "15504       ZNHIT3             3               0             0             0   \n",
      "15505       ZNHIT6             8               1             0             0   \n",
      "15506        ZNRF1             4               1             0             0   \n",
      "15507        ZNRF2             8               0             0             0   \n",
      "15508        ZNRF3             4               0             0             0   \n",
      "15509       ZRANB1             4               1             0             0   \n",
      "15510       ZRANB2             6               1             0             0   \n",
      "15511       ZRANB3             1               2             0             0   \n",
      "15512      ZSCAN12             3               1             0             0   \n",
      "15513  ZSCAN16-AS1             3               0             0             0   \n",
      "15514       ZSCAN2             3               0             0             0   \n",
      "15515      ZSCAN25             3               0             0             0   \n",
      "15516      ZSCAN26             3               0             0             0   \n",
      "15517      ZSCAN30             1               4             0             0   \n",
      "15518       ZSCAN9             1               2             0             0   \n",
      "15519       ZSWIM6             2               1             0             0   \n",
      "15520       ZSWIM7             2               2             0             0   \n",
      "15521       ZWILCH             3               1             0             0   \n",
      "15522        ZWINT             3               0             0             0   \n",
      "15523         ZXDC             3               5             0             0   \n",
      "\n",
      "      Sites In Extension Total_Reads_Gene  sites      tissue  \n",
      "0                      0               55      4  full_blood  \n",
      "1                      2              100      3  full_blood  \n",
      "2                      0              121      5  full_blood  \n",
      "3                      0              156      5  full_blood  \n",
      "4                      0              179      3  full_blood  \n",
      "5                      2               25      4  full_blood  \n",
      "6                      0              119      3  full_blood  \n",
      "7                      0              152      5  full_blood  \n",
      "8                      3              334      9  full_blood  \n",
      "9                      0              264      4  full_blood  \n",
      "10                     1              267      3  full_blood  \n",
      "11                     0              156      3  full_blood  \n",
      "12                     0              197      6  full_blood  \n",
      "13                     1              127      3  full_blood  \n",
      "14                     0              120      3  full_blood  \n",
      "15                     0             1513      8  full_blood  \n",
      "16                     0              608     10  full_blood  \n",
      "17                     3              444      4  full_blood  \n",
      "18                     0              708     11  full_blood  \n",
      "19                     0              879      9  full_blood  \n",
      "20                     0               86      3  full_blood  \n",
      "21                     2              749      5  full_blood  \n",
      "22                     0               45      3  full_blood  \n",
      "23                     0              403      4  full_blood  \n",
      "24                     0              784      3  full_blood  \n",
      "25                     1              517      3  full_blood  \n",
      "26                     0               47      3  full_blood  \n",
      "27                     0              146      4  full_blood  \n",
      "28                     1              154      3  full_blood  \n",
      "29                     0              137      4  full_blood  \n",
      "...                  ...              ...    ...         ...  \n",
      "15494                  0              997     15         hlf  \n",
      "15495                  0              244      4         hlf  \n",
      "15496                  0              157      3         hlf  \n",
      "15497                  0              201      5         hlf  \n",
      "15498                  2               43      3         hlf  \n",
      "15499                  2               96      4         hlf  \n",
      "15500                  0               40      3         hlf  \n",
      "15501                  0               40      3         hlf  \n",
      "15502                  0              113      4         hlf  \n",
      "15503                  1              590      3         hlf  \n",
      "15504                  0              831      3         hlf  \n",
      "15505                  0              458      9         hlf  \n",
      "15506                  0              375      5         hlf  \n",
      "15507                  1              277      9         hlf  \n",
      "15508                  0              345      4         hlf  \n",
      "15509                  1              368      6         hlf  \n",
      "15510                  0             1210      7         hlf  \n",
      "15511                  1               85      4         hlf  \n",
      "15512                  0               93      4         hlf  \n",
      "15513                  0              163      3         hlf  \n",
      "15514                  0               48      3         hlf  \n",
      "15515                  0               46      3         hlf  \n",
      "15516                  0              105      3         hlf  \n",
      "15517                  0               85      5         hlf  \n",
      "15518                  0              111      3         hlf  \n",
      "15519                  0              232      3         hlf  \n",
      "15520                  2              649      6         hlf  \n",
      "15521                  1               69      5         hlf  \n",
      "15522                  2             1088      5         hlf  \n",
      "15523                  0              289      8         hlf  \n",
      "\n",
      "[15524 rows x 9 columns]\n"
     ]
    }
   ],
   "source": [
    "print(complete_df)"
   ]
  },
  {
   "cell_type": "code",
   "execution_count": 59,
   "metadata": {},
   "outputs": [],
   "source": [
    "complete_df = complete_df.reset_index()"
   ]
  },
  {
   "cell_type": "code",
   "execution_count": 64,
   "metadata": {},
   "outputs": [],
   "source": [
    "complete_df = complete_df.drop(['index', 'level_0'], axis=1)"
   ]
  },
  {
   "cell_type": "code",
   "execution_count": 70,
   "metadata": {},
   "outputs": [],
   "source": [
    "complete_df.to_csv('../../staged-apa_data/apadb_multisite_genes.csv', sep='\\t')"
   ]
  },
  {
   "cell_type": "code",
   "execution_count": 73,
   "metadata": {},
   "outputs": [
    {
     "data": {
      "text/plain": [
       "Index([Gene_Symbol, Sites In UTR3, Sites In Intron, Sites In Exon,\n",
       "       Sites In UTR5, Sites In Extension, Total_Reads_Gene, 'sites', 'tissue'],\n",
       "      dtype='object')"
      ]
     },
     "execution_count": 73,
     "metadata": {},
     "output_type": "execute_result"
    }
   ],
   "source": [
    "complete_df.columns"
   ]
  },
  {
   "cell_type": "code",
   "execution_count": 75,
   "metadata": {},
   "outputs": [
    {
     "ename": "TypeError",
     "evalue": "Index does not support mutable operations",
     "output_type": "error",
     "traceback": [
      "\u001b[0;31m---------------------------------------------------------------------------\u001b[0m",
      "\u001b[0;31mTypeError\u001b[0m                                 Traceback (most recent call last)",
      "\u001b[0;32m<ipython-input-75-23775b472196>\u001b[0m in \u001b[0;36m<module>\u001b[0;34m\u001b[0m\n\u001b[1;32m      1\u001b[0m \u001b[0;32mfor\u001b[0m \u001b[0mi\u001b[0m \u001b[0;32min\u001b[0m \u001b[0mrange\u001b[0m\u001b[0;34m(\u001b[0m\u001b[0mlen\u001b[0m\u001b[0;34m(\u001b[0m\u001b[0mcomplete_df\u001b[0m\u001b[0;34m.\u001b[0m\u001b[0mcolumns\u001b[0m\u001b[0;34m)\u001b[0m\u001b[0;34m)\u001b[0m\u001b[0;34m:\u001b[0m\u001b[0;34m\u001b[0m\u001b[0;34m\u001b[0m\u001b[0m\n\u001b[0;32m----> 2\u001b[0;31m     \u001b[0mcomplete_df\u001b[0m\u001b[0;34m.\u001b[0m\u001b[0mcolumns\u001b[0m\u001b[0;34m[\u001b[0m\u001b[0mi\u001b[0m\u001b[0;34m]\u001b[0m \u001b[0;34m=\u001b[0m \u001b[0mcomplete_df\u001b[0m\u001b[0;34m.\u001b[0m\u001b[0mcolumns\u001b[0m\u001b[0;34m[\u001b[0m\u001b[0mi\u001b[0m\u001b[0;34m]\u001b[0m\u001b[0;34m.\u001b[0m\u001b[0mreplace\u001b[0m\u001b[0;34m(\u001b[0m\u001b[0;34m' '\u001b[0m\u001b[0;34m,\u001b[0m \u001b[0;34m'_'\u001b[0m\u001b[0;34m)\u001b[0m\u001b[0;34m\u001b[0m\u001b[0;34m\u001b[0m\u001b[0m\n\u001b[0m",
      "\u001b[0;32m/usr/local/lib64/python3.6/site-packages/pandas/core/indexes/base.py\u001b[0m in \u001b[0;36m__setitem__\u001b[0;34m(self, key, value)\u001b[0m\n\u001b[1;32m   3936\u001b[0m \u001b[0;34m\u001b[0m\u001b[0m\n\u001b[1;32m   3937\u001b[0m     \u001b[0;32mdef\u001b[0m \u001b[0m__setitem__\u001b[0m\u001b[0;34m(\u001b[0m\u001b[0mself\u001b[0m\u001b[0;34m,\u001b[0m \u001b[0mkey\u001b[0m\u001b[0;34m,\u001b[0m \u001b[0mvalue\u001b[0m\u001b[0;34m)\u001b[0m\u001b[0;34m:\u001b[0m\u001b[0;34m\u001b[0m\u001b[0;34m\u001b[0m\u001b[0m\n\u001b[0;32m-> 3938\u001b[0;31m         \u001b[0;32mraise\u001b[0m \u001b[0mTypeError\u001b[0m\u001b[0;34m(\u001b[0m\u001b[0;34m\"Index does not support mutable operations\"\u001b[0m\u001b[0;34m)\u001b[0m\u001b[0;34m\u001b[0m\u001b[0;34m\u001b[0m\u001b[0m\n\u001b[0m\u001b[1;32m   3939\u001b[0m \u001b[0;34m\u001b[0m\u001b[0m\n\u001b[1;32m   3940\u001b[0m     \u001b[0;32mdef\u001b[0m \u001b[0m__getitem__\u001b[0m\u001b[0;34m(\u001b[0m\u001b[0mself\u001b[0m\u001b[0;34m,\u001b[0m \u001b[0mkey\u001b[0m\u001b[0;34m)\u001b[0m\u001b[0;34m:\u001b[0m\u001b[0;34m\u001b[0m\u001b[0;34m\u001b[0m\u001b[0m\n",
      "\u001b[0;31mTypeError\u001b[0m: Index does not support mutable operations"
     ]
    }
   ],
   "source": [
    "for i in range(len(complete_df.columns)):\n",
    "    name= complete_df.columns[i]\n",
    "    complete_df.columns[i] = name.replace(' ', '_')"
   ]
  },
  {
   "cell_type": "code",
   "execution_count": 76,
   "metadata": {},
   "outputs": [
    {
     "data": {
      "text/plain": [
       "'Sites In Exon'"
      ]
     },
     "execution_count": 76,
     "metadata": {},
     "output_type": "execute_result"
    }
   ],
   "source": [
    "complete_df.columns[3]"
   ]
  },
  {
   "cell_type": "code",
   "execution_count": null,
   "metadata": {},
   "outputs": [],
   "source": []
  }
 ],
 "metadata": {
  "kernelspec": {
   "display_name": "Python 3",
   "language": "python",
   "name": "python3"
  },
  "language_info": {
   "codemirror_mode": {
    "name": "ipython",
    "version": 3
   },
   "file_extension": ".py",
   "mimetype": "text/x-python",
   "name": "python",
   "nbconvert_exporter": "python",
   "pygments_lexer": "ipython3",
   "version": "3.6.8"
  }
 },
 "nbformat": 4,
 "nbformat_minor": 2
}
